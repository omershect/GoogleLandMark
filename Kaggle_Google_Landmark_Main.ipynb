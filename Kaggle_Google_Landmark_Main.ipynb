{
  "nbformat": 4,
  "nbformat_minor": 0,
  "metadata": {
    "colab": {
      "name": "Kaggle_Google_Landmark_Main.ipynb",
      "version": "0.3.2",
      "provenance": [],
      "collapsed_sections": []
    },
    "language_info": {
      "codemirror_mode": {
        "name": "ipython",
        "version": 3
      },
      "file_extension": ".py",
      "mimetype": "text/x-python",
      "name": "python",
      "nbconvert_exporter": "python",
      "pygments_lexer": "ipython3",
      "version": "3.7.1"
    },
    "kernelspec": {
      "display_name": "Python 3",
      "language": "python",
      "name": "python3"
    },
    "accelerator": "GPU"
  },
  "cells": [
    {
      "cell_type": "markdown",
      "metadata": {
        "colab_type": "text",
        "id": "V_ND-cx6uuD8"
      },
      "source": [
        "## Kaggle Google Landmark - Model \n",
        "A Python note Book which provides models for the Kaggle Google Landmark \n",
        "The Notebook assume that there is a set of images in classes folders \n",
        "Divided into train test and validation subdirectories \n"
      ]
    },
    {
      "cell_type": "markdown",
      "metadata": {
        "colab_type": "text",
        "id": "r_8apZxxvUzr"
      },
      "source": [
        "## Load Libraries \n",
        "Loading the required libraries \n",
        "The implementation is based on the Keras/TenserFlow Python libraries "
      ]
    },
    {
      "cell_type": "code",
      "metadata": {
        "colab_type": "code",
        "id": "t5B8jkveX8lU",
        "outputId": "59f6d6a4-1ffe-4022-c564-e191a90b797c",
        "colab": {
          "base_uri": "https://localhost:8080/",
          "height": 34
        }
      },
      "source": [
        "from keras import models\n",
        "from keras import layers\n",
        "from keras.layers import Dense, Conv2D, Flatten,MaxPooling2D,Dropout,ZeroPadding2D,BatchNormalization\n",
        "from keras.preprocessing.image import ImageDataGenerator\n",
        "from keras.preprocessing.image import ImageDataGenerator, img_to_array, load_img\n",
        "from keras.models import Sequential\n",
        "from keras.layers import Dropout, Flatten, Dense\n",
        "from keras import applications\n",
        "from keras.preprocessing.image import ImageDataGenerator\n",
        "from keras import optimizers\n",
        "from keras.utils.np_utils import to_categorical\n",
        "from keras.callbacks import ModelCheckpoint\n",
        "from keras.models import Model\n",
        "\n",
        "import pandas as pd\n",
        "import numpy as np\n",
        "from matplotlib import pyplot\n",
        "import matplotlib.pyplot as plt\n",
        "from matplotlib.pyplot import subplots\n",
        "import os\n",
        "import zipfile\n",
        "import tensorflow as tf\n",
        "from tensorflow.keras.optimizers import RMSprop,Adam\n",
        "from tensorflow.keras.preprocessing.image import ImageDataGenerator\n",
        "import random\n",
        "import tarfile\n",
        "import urllib\n",
        "import urllib.request\n",
        "import hashlib\n",
        "import random\n",
        "import requests\n",
        "import random\n",
        "import shutil\n",
        "import re \n",
        "from shutil import copyfile\n",
        "import urllib\n",
        "from google.colab import files\n",
        "import glob\n",
        "import csv\n",
        "import cv2\n",
        "from keras.models import load_model\n",
        "import math\n",
        "from keras.optimizers import Adam\n",
        "from sklearn.model_selection import train_test_split\n",
        "from keras.preprocessing.image import img_to_array\n",
        "from keras.utils import to_categorical\n",
        "import matplotlib.pyplot as plt\n",
        "import numpy as np\n",
        "import argparse\n",
        "import random\n",
        "import tensorflow as tf\n",
        "import keras\n",
        "\n",
        "\n"
      ],
      "execution_count": 0,
      "outputs": [
        {
          "output_type": "stream",
          "text": [
            "Using TensorFlow backend.\n"
          ],
          "name": "stderr"
        }
      ]
    },
    {
      "cell_type": "markdown",
      "metadata": {
        "colab_type": "text",
        "id": "-ZLiDlmTKpu8"
      },
      "source": [
        "## General Settings "
      ]
    },
    {
      "cell_type": "code",
      "metadata": {
        "colab_type": "code",
        "id": "suVTg4DcK0kj",
        "colab": {}
      },
      "source": [
        "#Column/Row length when printing DataFrames \n",
        "pd.set_option('display.max_colwidth', -1)\n",
        "\n",
        "#Root Directory \n",
        "Root_Directory = \"/content/gdrive/My Drive/Colab Notebooks/Google Landmark/\"\n",
        "Meta_Data_Directory = \"/content/gdrive/My Drive/Colab Notebooks/Google Landmark/\"\n"
      ],
      "execution_count": 0,
      "outputs": []
    },
    {
      "cell_type": "markdown",
      "metadata": {
        "colab_type": "text",
        "id": "eaq8Ppya7-_V"
      },
      "source": [
        "## GPU Status \n",
        "Check avilabilty of the GPU"
      ]
    },
    {
      "cell_type": "code",
      "metadata": {
        "colab_type": "code",
        "id": "5dGzNvIv7biN",
        "outputId": "8dc2deca-840c-4eda-ecd5-950a2f994848",
        "colab": {
          "base_uri": "https://localhost:8080/",
          "height": 136
        }
      },
      "source": [
        "# memory footprint support libraries/code\n",
        "!ln -sf /opt/bin/nvidia-smi /usr/bin/nvidia-smi\n",
        "!pip install gputil\n",
        "!pip install psutil\n",
        "!pip install humanize\n",
        "import psutil\n",
        "import humanize\n",
        "import os\n",
        "import GPUtil as GPU\n",
        "GPUs = GPU.getGPUs()\n",
        "# XXX: only one GPU on Colab and isn’t guaranteed\n",
        "gpu = GPUs[0]\n",
        "def printm():\n",
        " process = psutil.Process(os.getpid())\n",
        " print(\"Gen RAM Free: \" + humanize.naturalsize( psutil.virtual_memory().available ), \" | Proc size: \" + humanize.naturalsize( process.memory_info().rss))\n",
        " print(\"GPU RAM Free: {0:.0f}MB | Used: {1:.0f}MB | Util {2:3.0f}% | Total {3:.0f}MB\".format(gpu.memoryFree, gpu.memoryUsed, gpu.memoryUtil*100, gpu.memoryTotal))\n",
        "printm() \n",
        "!df -h ."
      ],
      "execution_count": 0,
      "outputs": [
        {
          "output_type": "stream",
          "text": [
            "Requirement already satisfied: gputil in /usr/local/lib/python3.6/dist-packages (1.4.0)\n",
            "Requirement already satisfied: psutil in /usr/local/lib/python3.6/dist-packages (5.4.8)\n",
            "Requirement already satisfied: humanize in /usr/local/lib/python3.6/dist-packages (0.5.1)\n",
            "Gen RAM Free: 12.7 GB  | Proc size: 330.6 MB\n",
            "GPU RAM Free: 15079MB | Used: 0MB | Util   0% | Total 15079MB\n",
            "Filesystem      Size  Used Avail Use% Mounted on\n",
            "overlay         359G   28G  313G   8% /\n"
          ],
          "name": "stdout"
        }
      ]
    },
    {
      "cell_type": "markdown",
      "metadata": {
        "colab_type": "text",
        "id": "AkSHdWqbX8lX"
      },
      "source": [
        "## Read Data "
      ]
    },
    {
      "cell_type": "markdown",
      "metadata": {
        "colab_type": "text",
        "id": "0FDAM3kqxWO2"
      },
      "source": [
        "Read the labels from Google drive "
      ]
    },
    {
      "cell_type": "code",
      "metadata": {
        "colab_type": "code",
        "id": "79gIEXf9d2Nb",
        "outputId": "eabd2a55-8470-4298-d428-d67eae327110",
        "colab": {
          "base_uri": "https://localhost:8080/",
          "height": 51
        }
      },
      "source": [
        "from google.colab import drive\n",
        "drive.mount('/content/gdrive')\n",
        "\n",
        "\n",
        "with open('/content/gdrive/My Drive/foo.txt', 'w') as f:\n",
        "  f.write('Hello Google Drive!')\n",
        "!cat /content/gdrive/My\\ Drive/foo.txt"
      ],
      "execution_count": 0,
      "outputs": [
        {
          "output_type": "stream",
          "text": [
            "Drive already mounted at /content/gdrive; to attempt to forcibly remount, call drive.mount(\"/content/gdrive\", force_remount=True).\n",
            "Hello Google Drive!"
          ],
          "name": "stdout"
        }
      ]
    },
    {
      "cell_type": "markdown",
      "metadata": {
        "colab_type": "text",
        "id": "VoGfujVtX8lX"
      },
      "source": [
        "## Read Data \n",
        "Download the labels and metadata"
      ]
    },
    {
      "cell_type": "code",
      "metadata": {
        "colab_type": "code",
        "id": "Ys7ecppaX8la",
        "colab": {}
      },
      "source": [
        "#Read the train.csv from Google drive - This file has all images names and labels of the landmark (Landmark ID)\n",
        "DF_Labels = pd.read_csv(Meta_Data_Directory+\"train.csv\")\n"
      ],
      "execution_count": 0,
      "outputs": []
    },
    {
      "cell_type": "code",
      "metadata": {
        "id": "1Oxtvb0zTSmp",
        "colab_type": "code",
        "outputId": "fdfc64c2-e970-4e2d-b841-22cf87e91ab6",
        "colab": {
          "base_uri": "https://localhost:8080/",
          "height": 80
        }
      },
      "source": [
        "DF_Labels.loc[DF_Labels['landmark_id']==2545]"
      ],
      "execution_count": 0,
      "outputs": [
        {
          "output_type": "execute_result",
          "data": {
            "text/html": [
              "<div>\n",
              "<style scoped>\n",
              "    .dataframe tbody tr th:only-of-type {\n",
              "        vertical-align: middle;\n",
              "    }\n",
              "\n",
              "    .dataframe tbody tr th {\n",
              "        vertical-align: top;\n",
              "    }\n",
              "\n",
              "    .dataframe thead th {\n",
              "        text-align: right;\n",
              "    }\n",
              "</style>\n",
              "<table border=\"1\" class=\"dataframe\">\n",
              "  <thead>\n",
              "    <tr style=\"text-align: right;\">\n",
              "      <th></th>\n",
              "      <th>id</th>\n",
              "      <th>url</th>\n",
              "      <th>landmark_id</th>\n",
              "    </tr>\n",
              "  </thead>\n",
              "  <tbody>\n",
              "    <tr>\n",
              "      <th>1490735</th>\n",
              "      <td>cfcedb28f0a3826a</td>\n",
              "      <td>https://upload.wikimedia.org/wikipedia/commons/6/6c/Ravine_Patates_%C3%A0_Durand.JPG</td>\n",
              "      <td>2545</td>\n",
              "    </tr>\n",
              "  </tbody>\n",
              "</table>\n",
              "</div>"
            ],
            "text/plain": [
              "                       id  \\\n",
              "1490735  cfcedb28f0a3826a   \n",
              "\n",
              "                                                                                          url  \\\n",
              "1490735  https://upload.wikimedia.org/wikipedia/commons/6/6c/Ravine_Patates_%C3%A0_Durand.JPG   \n",
              "\n",
              "         landmark_id  \n",
              "1490735  2545         "
            ]
          },
          "metadata": {
            "tags": []
          },
          "execution_count": 81
        }
      ]
    },
    {
      "cell_type": "markdown",
      "metadata": {
        "colab_type": "text",
        "id": "JrtyjbAj168b"
      },
      "source": [
        "## Analyze labels "
      ]
    },
    {
      "cell_type": "code",
      "metadata": {
        "colab_type": "code",
        "id": "BjAN8CYJX8ld",
        "outputId": "59ebcc6e-80ce-4ca1-c8a9-d72fbf39cc80",
        "colab": {
          "base_uri": "https://localhost:8080/",
          "height": 221
        }
      },
      "source": [
        "print(DF_Labels.shape)\n",
        "DF_Labels.head()"
      ],
      "execution_count": 0,
      "outputs": [
        {
          "output_type": "stream",
          "text": [
            "(4132914, 3)\n"
          ],
          "name": "stdout"
        },
        {
          "output_type": "execute_result",
          "data": {
            "text/html": [
              "<div>\n",
              "<style scoped>\n",
              "    .dataframe tbody tr th:only-of-type {\n",
              "        vertical-align: middle;\n",
              "    }\n",
              "\n",
              "    .dataframe tbody tr th {\n",
              "        vertical-align: top;\n",
              "    }\n",
              "\n",
              "    .dataframe thead th {\n",
              "        text-align: right;\n",
              "    }\n",
              "</style>\n",
              "<table border=\"1\" class=\"dataframe\">\n",
              "  <thead>\n",
              "    <tr style=\"text-align: right;\">\n",
              "      <th></th>\n",
              "      <th>id</th>\n",
              "      <th>url</th>\n",
              "      <th>landmark_id</th>\n",
              "    </tr>\n",
              "  </thead>\n",
              "  <tbody>\n",
              "    <tr>\n",
              "      <th>0</th>\n",
              "      <td>6e158a47eb2ca3f6</td>\n",
              "      <td>https://upload.wikimedia.org/wikipedia/commons/b/b5/Observatoriet_v%C3%A4derkammer_2013a.jpg</td>\n",
              "      <td>142820</td>\n",
              "    </tr>\n",
              "    <tr>\n",
              "      <th>1</th>\n",
              "      <td>202cd79556f30760</td>\n",
              "      <td>http://upload.wikimedia.org/wikipedia/commons/6/63/Ecosse200996-1.jpg</td>\n",
              "      <td>104169</td>\n",
              "    </tr>\n",
              "    <tr>\n",
              "      <th>2</th>\n",
              "      <td>3ad87684c99c06e1</td>\n",
              "      <td>http://upload.wikimedia.org/wikipedia/commons/2/2c/Pirmasens_Dynamikum.jpg</td>\n",
              "      <td>37914</td>\n",
              "    </tr>\n",
              "    <tr>\n",
              "      <th>3</th>\n",
              "      <td>e7f70e9c61e66af3</td>\n",
              "      <td>https://upload.wikimedia.org/wikipedia/commons/0/02/Occidental_Vertical.jpg</td>\n",
              "      <td>102140</td>\n",
              "    </tr>\n",
              "    <tr>\n",
              "      <th>4</th>\n",
              "      <td>4072182eddd0100e</td>\n",
              "      <td>https://upload.wikimedia.org/wikipedia/commons/5/51/Looking_downstream_from_the_footbridge_over_the_Severn_-_geograph.org.uk_-_532337.jpg</td>\n",
              "      <td>2474</td>\n",
              "    </tr>\n",
              "  </tbody>\n",
              "</table>\n",
              "</div>"
            ],
            "text/plain": [
              "                 id  \\\n",
              "0  6e158a47eb2ca3f6   \n",
              "1  202cd79556f30760   \n",
              "2  3ad87684c99c06e1   \n",
              "3  e7f70e9c61e66af3   \n",
              "4  4072182eddd0100e   \n",
              "\n",
              "                                                                                                                                         url  \\\n",
              "0  https://upload.wikimedia.org/wikipedia/commons/b/b5/Observatoriet_v%C3%A4derkammer_2013a.jpg                                                \n",
              "1  http://upload.wikimedia.org/wikipedia/commons/6/63/Ecosse200996-1.jpg                                                                       \n",
              "2  http://upload.wikimedia.org/wikipedia/commons/2/2c/Pirmasens_Dynamikum.jpg                                                                  \n",
              "3  https://upload.wikimedia.org/wikipedia/commons/0/02/Occidental_Vertical.jpg                                                                 \n",
              "4  https://upload.wikimedia.org/wikipedia/commons/5/51/Looking_downstream_from_the_footbridge_over_the_Severn_-_geograph.org.uk_-_532337.jpg   \n",
              "\n",
              "   landmark_id  \n",
              "0  142820       \n",
              "1  104169       \n",
              "2  37914        \n",
              "3  102140       \n",
              "4  2474         "
            ]
          },
          "metadata": {
            "tags": []
          },
          "execution_count": 7
        }
      ]
    },
    {
      "cell_type": "code",
      "metadata": {
        "colab_type": "code",
        "id": "HWvLhedJ2DgX",
        "outputId": "92c8354f-b579-4eeb-9eeb-0a32f4375252",
        "colab": {
          "base_uri": "https://localhost:8080/",
          "height": 528
        }
      },
      "source": [
        "from matplotlib.pyplot import figure\n",
        "x = (DF_Labels.groupby(['landmark_id']).size()).sort_values(ascending=False)\n",
        "\n",
        "print(\"Total number of diffrent types of Landmarks:\",len(x))\n",
        "print(\"Total number of files\",sum(x))\n",
        "figure(num=None, figsize=(22, 6), dpi=80, facecolor='w', edgecolor='k')\n",
        "plt.title('Top LandMarlk Count')\n",
        "plt.ylabel('Count')\n",
        "plt.xlabel('LandMark ID')\n",
        "x.head(80).plot.bar()"
      ],
      "execution_count": 0,
      "outputs": [
        {
          "output_type": "stream",
          "text": [
            "Total number of diffrent types of Landmarks: 203094\n",
            "Total number of files 4132914\n"
          ],
          "name": "stdout"
        },
        {
          "output_type": "execute_result",
          "data": {
            "text/plain": [
              "<matplotlib.axes._subplots.AxesSubplot at 0x7fd171124e10>"
            ]
          },
          "metadata": {
            "tags": []
          },
          "execution_count": 8
        },
        {
          "output_type": "display_data",
          "data": {
            "image/png": "[encoded data removed]",
            "text/plain": [
              "<Figure size 1760x480 with 1 Axes>"
            ]
          },
          "metadata": {
            "tags": []
          }
        }
      ]
    },
    {
      "cell_type": "code",
      "metadata": {
        "colab_type": "code",
        "id": "akxfVS0hRB3h",
        "colab": {}
      },
      "source": [
        "random.seed(1234)\n",
        "landmark_list = [str(x) for x in list(range(1000,3000))]\n",
        "data_sample = DF_Labels[DF_Labels['landmark_id'].isin(landmark_list)]"
      ],
      "execution_count": 0,
      "outputs": []
    },
    {
      "cell_type": "code",
      "metadata": {
        "colab_type": "code",
        "id": "p2NqUHUb154D",
        "outputId": "79591d39-e461-4008-d3d9-8d1be9fb44df",
        "colab": {
          "base_uri": "https://localhost:8080/",
          "height": 415
        }
      },
      "source": [
        "colors = np.array(['#4285f4','#34a853','#fbbc05','#ea4335'])\n",
        "#Define the order in which to display the graph\n",
        "order = ['1-5','5-10','10-50','50-100','100-200','200-500', '>=500']\n",
        "f, (ax1, ax2) = plt.subplots(1, 2,figsize=(15,5))\n",
        "\n",
        "\n",
        "\n",
        "def plot_distribution(data_f, data_k, axis):\n",
        "    # data['landmark_id'].value_counts()\n",
        "    x=data_f.landmark_id.value_counts().index\n",
        "    y=pd.DataFrame(data_f.landmark_id.value_counts())\n",
        "\n",
        "    #Create a variable to group the number of image sin each class\n",
        "    y['Number of images'] = np.where(y['landmark_id']>=500,'>=500',y['landmark_id'])\n",
        "    y['Number of images'] = np.where((y['landmark_id']>=200) & (y['landmark_id']<500),'200-500',y['Number of images'])\n",
        "    y['Number of images'] = np.where((y['landmark_id']>=100) & (y['landmark_id']<200),'100-200',y['Number of images'])\n",
        "    y['Number of images'] = np.where((y['landmark_id']>=50) & (y['landmark_id']<100),'50-100',y['Number of images'])\n",
        "    y['Number of images'] = np.where((y['landmark_id']>=10) & (y['landmark_id']<50),'10-50',y['Number of images'])\n",
        "    y['Number of images'] = np.where((y['landmark_id']>=5) & (y['landmark_id']<10),'5-10',y['Number of images'])\n",
        "    y['Number of images'] = np.where((y['landmark_id']>=0) & (y['landmark_id']<5),'1-5',y['Number of images'])\n",
        "\n",
        "    y['Number of images'].value_counts().loc[order].plot(kind = 'bar',color = colors,width = 0.8, ax=axis)\n",
        "    axis.set_xlabel('Number of images')\n",
        "    axis.set_ylabel('Number of classes')\n",
        "    axis.set_title(data_k)\n",
        "    \n",
        "\n",
        "print(\"There are:\",DF_Labels.shape[0], \"Images in the Entire set\")\n",
        "print(\"There are:\",data_sample.shape[0], \"Images in the Sample set\")\n",
        "plot_distribution(DF_Labels, 'Original', ax1)\n",
        "plot_distribution(data_sample, 'Sample', ax2)\n"
      ],
      "execution_count": 0,
      "outputs": [
        {
          "output_type": "stream",
          "text": [
            "There are: 4132914 Images in the Entire set\n",
            "There are: 80746 Images in the Sample set\n"
          ],
          "name": "stdout"
        },
        {
          "output_type": "display_data",
          "data": {
            "image/png": "[encoded data removed]",
            "text/plain": [
              "<Figure size 1080x360 with 2 Axes>"
            ]
          },
          "metadata": {
            "tags": []
          }
        }
      ]
    },
    {
      "cell_type": "markdown",
      "metadata": {
        "colab_type": "text",
        "id": "nbmYBe4iWfWE"
      },
      "source": [
        "## Test data\n",
        "Download test data"
      ]
    },
    {
      "cell_type": "code",
      "metadata": {
        "colab_type": "code",
        "id": "q9sT_SF2U5RS",
        "outputId": "e3004934-4f51-44f1-96bd-7a5d12270106",
        "colab": {
          "base_uri": "https://localhost:8080/",
          "height": 34
        }
      },
      "source": [
        "from zipfile import ZipFile\n",
        "\n",
        "#Extract the test.csv file from the Zip file \n",
        "zf = zipfile.ZipFile(Meta_Data_Directory+'test.csv.zip', mode='r')\n",
        "zf.extractall()\n",
        "zf.close()\n",
        "DF_Test_Labels = pd.read_csv(\"test.csv\")\n",
        "print(\"There are :\",DF_Test_Labels.shape[0],\"Test images\")\n",
        "\n",
        "\n"
      ],
      "execution_count": 0,
      "outputs": [
        {
          "output_type": "stream",
          "text": [
            "There are : 117703 Test images\n"
          ],
          "name": "stdout"
        }
      ]
    },
    {
      "cell_type": "markdown",
      "metadata": {
        "colab_type": "text",
        "id": "HSLfqxqoJkGf"
      },
      "source": [
        "## Fetch Images "
      ]
    },
    {
      "cell_type": "markdown",
      "metadata": {
        "colab_type": "text",
        "id": "6Ixgb_zJbDUC"
      },
      "source": [
        "## Diplay images "
      ]
    },
    {
      "cell_type": "code",
      "metadata": {
        "colab_type": "code",
        "id": "nzGc6uu5bCW0",
        "outputId": "801da819-16e8-454d-e3f9-fed1223e7fbb",
        "colab": {
          "base_uri": "https://localhost:8080/",
          "height": 503
        }
      },
      "source": [
        "from IPython.display import Image\n",
        "from IPython.core.display import HTML \n",
        "\n",
        "def displayLandmarkImagesLarge(urls, category_name):\n",
        "    img_style = \"width: 200px; height:160px; margin: 0px; float: left; border: 1px solid black;\"\n",
        "    images_list = ''.join([f\"<img style='{img_style}' src='{u}' />\" for _, u in urls.head(16).iteritems()])\n",
        "    display(HTML(images_list))\n",
        "\n",
        "category = DF_Labels['landmark_id'].value_counts().keys()[1999]\n",
        "urls = DF_Labels[DF_Labels['landmark_id'] == category]['url']\n",
        "displayLandmarkImagesLarge(urls, \"\")"
      ],
      "execution_count": 0,
      "outputs": [
        {
          "output_type": "display_data",
          "data": {
            "text/html": [
              "<img style='width: 200px; height:160px; margin: 0px; float: left; border: 1px solid black;' src='https://upload.wikimedia.org/wikipedia/commons/d/d7/Swan_%40_Lac_Dausmenil_%40_Bois_de_Vincennes_%40_Paris_%2830072158511%29.jpg' /><img style='width: 200px; height:160px; margin: 0px; float: left; border: 1px solid black;' src='https://upload.wikimedia.org/wikipedia/commons/1/1d/Ile_de_Reuilly_%40_Lac_Dausmenil_%40_Bois_de_Vincennes_%40_Paris_%2830121650986%29.jpg' /><img style='width: 200px; height:160px; margin: 0px; float: left; border: 1px solid black;' src='https://upload.wikimedia.org/wikipedia/commons/c/cb/Lac_Daumesnil_%40_Bois_de_Vincennes_%40_Paris_%2826721401386%29.jpg' /><img style='width: 200px; height:160px; margin: 0px; float: left; border: 1px solid black;' src='https://upload.wikimedia.org/wikipedia/commons/1/1d/Lac_Daumesnil_%40_Bois_de_Vincennes_%40_Paris_%2826680131041%29.jpg' /><img style='width: 200px; height:160px; margin: 0px; float: left; border: 1px solid black;' src='https://upload.wikimedia.org/wikipedia/commons/f/f3/Ile_de_Bercy_%40_Lac_Dausmenil_%40_Bois_de_Vincennes_%40_Paris_%2830042333352%29.jpg' /><img style='width: 200px; height:160px; margin: 0px; float: left; border: 1px solid black;' src='https://upload.wikimedia.org/wikipedia/commons/5/5c/Lac_Daumesnil%2C_Paris_September_2013_002.jpg' /><img style='width: 200px; height:160px; margin: 0px; float: left; border: 1px solid black;' src='https://upload.wikimedia.org/wikipedia/commons/2/23/Temple_%40_Lac_Daumesnil_%40_Bois_de_Vincennes_%40_Paris_%2826721386186%29.jpg' /><img style='width: 200px; height:160px; margin: 0px; float: left; border: 1px solid black;' src='http://upload.wikimedia.org/wikipedia/commons/8/8f/Bois_de_Vincennes_20060816_08.jpg' /><img style='width: 200px; height:160px; margin: 0px; float: left; border: 1px solid black;' src='https://upload.wikimedia.org/wikipedia/commons/5/55/Lac_Daumesnil_%40_Bois_de_Vincennes_%40_Paris_%2826140563894%29.jpg' /><img style='width: 200px; height:160px; margin: 0px; float: left; border: 1px solid black;' src='https://upload.wikimedia.org/wikipedia/commons/8/8a/Lac_Daumesnil_%40_Bois_de_Vincennes_%40_Paris_%2823548107679%29.jpg' /><img style='width: 200px; height:160px; margin: 0px; float: left; border: 1px solid black;' src='https://upload.wikimedia.org/wikipedia/commons/d/d4/Lac_Daumesnil_%40_Bois_de_Vincennes_%40_Paris_%2823548226889%29.jpg' /><img style='width: 200px; height:160px; margin: 0px; float: left; border: 1px solid black;' src='https://upload.wikimedia.org/wikipedia/commons/5/5a/Lac_Daumesnil_%40_Bois_de_Vincennes_%40_Paris_%2826140676384%29.jpg' /><img style='width: 200px; height:160px; margin: 0px; float: left; border: 1px solid black;' src='https://upload.wikimedia.org/wikipedia/commons/6/64/Ile_de_Reuilly_%40_Lac_Dausmenil_%40_Bois_de_Vincennes_%40_Paris_%2830071961571%29.jpg' /><img style='width: 200px; height:160px; margin: 0px; float: left; border: 1px solid black;' src='https://upload.wikimedia.org/wikipedia/commons/5/50/Ile_de_Reuilly_%40_Lac_Dausmenil_%40_Bois_de_Vincennes_%40_Paris_%2830042286932%29.jpg' /><img style='width: 200px; height:160px; margin: 0px; float: left; border: 1px solid black;' src='https://upload.wikimedia.org/wikipedia/commons/4/4c/Swan_%40_Ile_de_Reuilly_%40_Lac_Dausmenil_%40_Bois_de_Vincennes_%40_Paris_%2830071964291%29.jpg' /><img style='width: 200px; height:160px; margin: 0px; float: left; border: 1px solid black;' src='https://upload.wikimedia.org/wikipedia/commons/c/c5/Lac_Dausmenil_%40_Bois_de_Vincennes_%40_Paris_%2829528041403%29.jpg' />"
            ],
            "text/plain": [
              "<IPython.core.display.HTML object>"
            ]
          },
          "metadata": {
            "tags": []
          }
        }
      ]
    },
    {
      "cell_type": "markdown",
      "metadata": {
        "colab_type": "text",
        "id": "XwsmnaP6jfUL"
      },
      "source": [
        "## Extract Images \n",
        "Copy the zip file (from the google drive) with the images and extract it "
      ]
    },
    {
      "cell_type": "code",
      "metadata": {
        "id": "vYkdDrgPmDvj",
        "colab_type": "code",
        "colab": {}
      },
      "source": [
        "#Create Data Directory \n",
        "if not os.path.exists(\"Data\"):\n",
        "  !mkdir Data\n"
      ],
      "execution_count": 0,
      "outputs": []
    },
    {
      "cell_type": "code",
      "metadata": {
        "id": "XexKy6Rgokep",
        "colab_type": "code",
        "colab": {}
      },
      "source": [
        "#Copy the Tar/Zip file of the images \n",
        "!cp \"/content/gdrive/My Drive/Colab Notebooks/Google Landmark/image.zip\"  \"./\""
      ],
      "execution_count": 0,
      "outputs": []
    },
    {
      "cell_type": "code",
      "metadata": {
        "id": "9D1sLtBbpRir",
        "colab_type": "code",
        "colab": {}
      },
      "source": [
        "zf = zipfile.ZipFile(\"image.zip\", mode='r')\n",
        "zf.extractall(\"Data\")\n",
        "zf.close()"
      ],
      "execution_count": 0,
      "outputs": []
    },
    {
      "cell_type": "code",
      "metadata": {
        "id": "MnZ_QgN96LKq",
        "colab_type": "code",
        "outputId": "4506d14d-dcd2-47de-fab6-1fecec77c2b3",
        "colab": {
          "base_uri": "https://localhost:8080/",
          "height": 34
        }
      },
      "source": [
        "!cp -r Data/temp/train_images_model Data\n",
        "!cp -r Data/temp/validation_images_model Data\n",
        "!rm -r Data/temp\n",
        "!ls Data"
      ],
      "execution_count": 0,
      "outputs": [
        {
          "output_type": "stream",
          "text": [
            "moved_images  train_images_model  validation_images_model\n"
          ],
          "name": "stdout"
        }
      ]
    },
    {
      "cell_type": "code",
      "metadata": {
        "id": "RNLDGjA8pv26",
        "colab_type": "code",
        "colab": {}
      },
      "source": [
        "for x in range(2000,3000):\n",
        "  if not os.path.exists(\"Data/train_images_model/\"+str(x)):\n",
        "    os.mkdir(\"Data//train_images_model/\"+str(x))\n",
        "  if not os.path.exists(\"Data/validation_images_model/\"+str(x)):\n",
        "    os.mkdir(\"Data//validation_images_model/\"+str(x))"
      ],
      "execution_count": 0,
      "outputs": []
    },
    {
      "cell_type": "markdown",
      "metadata": {
        "id": "UGTC8rYFqyyz",
        "colab_type": "text"
      },
      "source": [
        "## Predictions using weights from ImageNet\n",
        "Before proceeding with any model training, VGG16 architecture trained on Imagenet dataset is picked up and is used to predict on the images that we had. Observation: Imagenet weights are successfully able to capture the generic features from landmarks."
      ]
    },
    {
      "cell_type": "code",
      "metadata": {
        "id": "X0w8kZ2rq4ZM",
        "colab_type": "code",
        "outputId": "3020459f-45c6-407d-d97c-464670aa9372",
        "colab": {
          "base_uri": "https://localhost:8080/",
          "height": 301
        }
      },
      "source": [
        "from keras.applications.vgg16 import VGG16\n",
        "from keras.preprocessing import image\n",
        "from keras.applications.vgg16 import preprocess_input, decode_predictions\n",
        "from IPython.display import Image, display\n",
        "\n",
        "model =VGG16(weights = 'imagenet', include_top = True)\n",
        "\n",
        "img_path = r'Data/train_images_model/1030/0b0331c0da1cca13.jpg'\n",
        "img = image.load_img(img_path, target_size= (224,224))\n",
        "x = image.img_to_array(img)\n",
        "x = np.expand_dims(x, axis = 0)\n",
        "x = preprocess_input(x)\n",
        "\n",
        "preds = model.predict(x)\n",
        "print ('Predicted:', decode_predictions(preds, top = 3)[0])\n",
        "\n",
        "\n",
        "                                                                              \n",
        "\n",
        "display(Image('Data/train_images_model/1030/0b0331c0da1cca13.jpg'))\n",
        "# 0a0667fc2436a04b = stupa (17%)\n",
        "# 0b48dd3b81d5b6ba = triumphal_arch(25%)"
      ],
      "execution_count": 0,
      "outputs": [
        {
          "output_type": "stream",
          "text": [
            "WARNING:tensorflow:From /usr/local/lib/python3.6/dist-packages/tensorflow/python/framework/op_def_library.py:263: colocate_with (from tensorflow.python.framework.ops) is deprecated and will be removed in a future version.\n",
            "Instructions for updating:\n",
            "Colocations handled automatically by placer.\n",
            "Downloading data from https://github.com/fchollet/deep-learning-models/releases/download/v0.1/vgg16_weights_tf_dim_ordering_tf_kernels.h5\n",
            "553467904/553467096 [==============================] - 40s 0us/step\n",
            "Downloading data from https://s3.amazonaws.com/deep-learning-models/image-models/imagenet_class_index.json\n",
            "40960/35363 [==================================] - 0s 5us/step\n",
            "Predicted: [('n02980441', 'castle', 0.421175), ('n03781244', 'monastery', 0.36050403), ('n03028079', 'church', 0.14520133)]\n"
          ],
          "name": "stdout"
        },
        {
          "output_type": "display_data",
          "data": {
            "image/jpeg": "[encoded data removed]",
            "text/plain": [
              "<IPython.core.display.Image object>"
            ]
          },
          "metadata": {
            "tags": []
          }
        }
      ]
    },
    {
      "cell_type": "code",
      "metadata": {
        "id": "hX30iBM7lHDG",
        "colab_type": "code",
        "outputId": "ef3470d0-c593-4818-8229-26f8796f06f6",
        "colab": {
          "base_uri": "https://localhost:8080/",
          "height": 51
        }
      },
      "source": [
        "train_data_dir = 'Data/train_images_model'\n",
        "validation_data_dir = 'Data/validation_images_model'\n",
        "\n",
        "#counts the number of files in subdirectories of a given directory. \n",
        "#outputs the count of images and label of each image in order of reading.\n",
        "\n",
        "def count(dir):\n",
        "    i = 1000\n",
        "    count = []\n",
        "    while i <= 2999:\n",
        "        f = str(i)\n",
        "        #print (f)\n",
        "        for root, dirs, files in os.walk(dir +'/'+ f):  # loop through startfolders\n",
        "            for pic in files:\n",
        "                count.append(f) \n",
        "               \n",
        "        i += 1\n",
        "    print (len(count))\n",
        "    return ([len(count),count])\n",
        "\n",
        "nb_train_samples = count(train_data_dir)\n",
        "nb_validation_samples = count(validation_data_dir)\n",
        "\n",
        "# nb_train/validation_samples is a list of lists of the format [len(count),count]. len(count) is the total number of images in \n",
        "# train/validation folder. count is a list of class labels i.e. landmark IDs of the images read."
      ],
      "execution_count": 0,
      "outputs": [
        {
          "output_type": "stream",
          "text": [
            "33730\n",
            "7424\n"
          ],
          "name": "stdout"
        }
      ]
    },
    {
      "cell_type": "markdown",
      "metadata": {
        "id": "bK-lg1ZcGaUo",
        "colab_type": "text"
      },
      "source": [
        "## Count Directories and Files \n",
        "Count all sub directories and files in the train and validation sets"
      ]
    },
    {
      "cell_type": "code",
      "metadata": {
        "id": "mkXHtfGmw4mw",
        "colab_type": "code",
        "outputId": "12e163f0-9aed-44b5-9d8a-2a095bd5d40c",
        "colab": {
          "base_uri": "https://localhost:8080/",
          "height": 241
        }
      },
      "source": [
        "counter=collections.Counter(nb_train_samples[1])\n",
        "print(counter.keys())\n",
        "print(counter.values())\n",
        "counter.most_common(10)"
      ],
      "execution_count": 0,
      "outputs": [
        {
          "output_type": "stream",
          "text": [
            "dict_keys(['1000', '1002', '1003', '1006', '1007', '1008', '1009', '1011', '1012', '1013', '1014', '1015', '1018', '1019', '1022', '1025', '1027', '1028', '1029', '1030', '1031', '1032', '1033', '1034', '1035', '1036', '1038', '1040', '1041', '1042', '1043', '1044', '1045', '1046', '1047', '1049', '1050', '1051', '1052', '1053', '1054', '1055', '1056', '1058', '1059', '1060', '1061', '1062', '1063', '1064', '1066', '1067', '1068', '1069', '1070', '1071', '1072', '1073', '1074', '1075', '1076', '1077', '1078', '1079', '1083', '1084', '1085', '1088', '1090', '1091', '1095', '1097', '1098', '1099', '1100', '1101', '1103', '1104', '1105', '1106', '1108', '1110', '1113', '1114', '1116', '1118', '1119', '1120', '1121', '1122', '1123', '1124', '1125', '1127', '1129', '1130', '1131', '1132', '1135', '1137', '1138', '1140', '1141', '1142', '1145', '1146', '1148', '1150', '1152', '1153', '1154', '1155', '1156', '1157', '1159', '1161', '1163', '1164', '1165', '1166', '1167', '1171', '1173', '1174', '1179', '1183', '1184', '1186', '1188', '1189', '1192', '1193', '1194', '1196', '1198', '1199', '1200', '1201', '1202', '1203', '1204', '1205', '1206', '1207', '1208', '1210', '1211', '1213', '1215', '1216', '1217', '1218', '1219', '1220', '1223', '1224', '1225', '1226', '1227', '1228', '1229', '1231', '1233', '1234', '1235', '1236', '1237', '1238', '1240', '1241', '1242', '1243', '1245', '1249', '1250', '1251', '1253', '1254', '1255', '1256', '1257', '1258', '1261', '1262', '1263', '1265', '1268', '1269', '1270', '1271', '1272', '1273', '1275', '1276', '1277', '1278', '1280', '1283', '1284', '1285', '1287', '1288', '1289', '1292', '1293', '1294', '1295', '1296', '1297', '1298', '1299', '1300', '1302', '1304', '1307', '1308', '1309', '1311', '1312', '1313', '1316', '1318', '1320', '1322', '1323', '1324', '1325', '1327', '1330', '1331', '1332', '1333', '1334', '1335', '1339', '1340', '1341', '1345', '1346', '1347', '1348', '1349', '1350', '1351', '1352', '1353', '1356', '1360', '1362', '1363', '1364', '1366', '1367', '1368', '1369', '1374', '1375', '1376', '1380', '1382', '1386', '1388', '1389', '1390', '1391', '1392', '1393', '1394', '1395', '1397', '1398', '1399', '1400', '1401', '1402', '1403', '1404', '1405', '1408', '1410', '1411', '1412', '1413', '1414', '1415', '1416', '1417', '1421', '1422', '1423', '1425', '1426', '1427', '1428', '1429', '1430', '1431', '1432', '1433', '1434', '1435', '1436', '1437', '1438', '1440', '1441', '1442', '1443', '1444', '1447', '1448', '1449', '1451', '1452', '1454', '1456', '1458', '1459', '1460', '1461', '1462', '1464', '1465', '1466', '1467', '1468', '1469', '1470', '1472', '1473', '1475', '1477', '1479', '1483', '1484', '1487', '1490', '1491', '1494', '1496', '1497', '1498', '1500', '1502', '1505', '1510', '1512', '1513', '1515', '1518', '1519', '1520', '1522', '1523', '1524', '1525', '1526', '1528', '1529', '1530', '1533', '1534', '1535', '1536', '1540', '1541', '1542', '1543', '1544', '1546', '1547', '1548', '1549', '1550', '1551', '1553', '1554', '1555', '1556', '1559', '1561', '1562', '1563', '1564', '1565', '1566', '1567', '1568', '1569', '1570', '1571', '1572', '1573', '1574', '1575', '1576', '1578', '1579', '1581', '1582', '1583', '1584', '1585', '1586', '1587', '1591', '1592', '1593', '1596', '1597', '1598', '1599', '1600', '1603', '1604', '1605', '1607', '1610', '1612', '1613', '1614', '1616', '1617', '1618', '1619', '1623', '1624', '1625', '1629', '1630', '1632', '1633', '1635', '1636', '1637', '1639', '1640', '1642', '1643', '1644', '1645', '1646', '1648', '1650', '1651', '1654', '1655', '1656', '1658', '1659', '1660', '1661', '1662', '1663', '1664', '1665', '1666', '1667', '1668', '1669', '1670', '1671', '1672', '1673', '1674', '1675', '1677', '1678', '1679', '1680', '1684', '1685', '1686', '1687', '1688', '1689', '1690', '1691', '1692', '1693', '1696', '1698', '1699', '1700', '1702', '1703', '1704', '1705', '1706', '1707', '1708', '1709', '1710', '1712', '1713', '1714', '1715', '1716', '1717', '1727', '1728', '1729', '1730', '1735', '1739', '1741', '1742', '1743', '1744', '1747', '1748', '1749', '1750', '1751', '1752', '1753', '1755', '1757', '1758', '1759', '1761', '1762', '1765', '1766', '1768', '1769', '1771', '1773', '1774', '1776', '1777', '1778', '1779', '1780', '1781', '1782', '1783', '1784', '1785', '1786', '1787', '1788', '1791', '1792', '1793', '1795', '1798', '1799', '1800', '1801', '1802', '1803', '1804', '1809', '1810', '1811', '1813', '1815', '1817', '1818', '1820', '1821', '1822', '1823', '1824', '1825', '1827', '1829', '1830', '1831', '1832', '1834', '1835', '1836', '1838', '1839', '1840', '1841', '1842', '1843', '1844', '1845', '1847', '1848', '1850', '1853', '1854', '1855', '1857', '1858', '1864', '1865', '1868', '1873', '1874', '1875', '1876', '1877', '1878', '1879', '1881', '1883', '1884', '1887', '1888', '1889', '1890', '1891', '1892', '1894', '1895', '1896', '1897', '1898', '1899', '1900', '1901', '1902', '1904', '1905', '1906', '1907', '1908', '1913', '1914', '1916', '1917', '1919', '1921', '1922', '1923', '1924', '1926', '1927', '1928', '1929', '1930', '1931', '1933', '1934', '1936', '1939', '1940', '1941', '1942', '1943', '1944', '1945', '1946', '1949', '1950', '1952', '1954', '1958', '1959', '1960', '1961', '1962', '1964', '1966', '1967', '1968', '1972', '1976', '1977', '1979', '1981', '1982', '1983', '1984', '1985', '1987', '1988', '1989', '1993', '1994', '1996', '1998', '2003', '2004', '2005', '2007', '2010', '2011', '2012', '2013', '2014', '2015', '2016', '2019', '2020', '2021', '2022', '2026', '2029', '2030', '2032', '2035', '2036', '2037', '2038', '2039', '2040', '2041', '2042', '2043', '2044', '2045', '2046', '2047', '2048', '2049', '2050', '2052', '2053', '2054', '2055', '2056', '2058', '2059', '2062', '2063', '2064', '2065', '2068', '2069', '2070', '2072', '2074', '2075', '2076', '2077', '2079', '2082', '2083', '2084', '2085', '2086', '2088', '2089', '2091', '2093', '2095', '2096', '2097', '2098', '2101', '2104', '2105', '2106', '2107', '2110', '2111', '2112', '2113', '2114', '2116', '2118', '2122', '2123', '2124', '2125', '2128', '2129', '2132', '2133', '2134', '2137', '2139', '2140', '2141', '2144', '2145', '2147', '2148', '2149', '2150', '2155', '2157', '2160', '2162', '2163', '2164', '2165', '2166', '2167', '2168', '2169', '2170', '2171', '2172', '2174', '2177', '2178', '2179', '2180', '2182', '2183', '2184', '2185', '2186', '2188', '2189', '2190', '2191', '2196', '2197', '2198', '2199', '2201', '2202', '2203', '2205', '2207', '2208', '2209', '2210', '2211', '2214', '2215', '2216', '2217', '2220', '2221', '2222', '2223', '2224', '2226', '2227', '2229', '2230', '2231', '2232', '2233', '2234', '2236', '2239', '2242', '2243', '2244', '2245', '2246', '2247', '2248', '2249', '2250', '2251', '2252', '2254', '2256', '2257', '2258', '2260', '2261', '2262', '2264', '2265', '2266', '2268', '2270', '2271', '2273', '2276', '2277', '2278', '2279', '2280', '2281', '2282', '2283', '2284', '2286', '2287', '2289', '2290', '2291', '2292', '2293', '2294', '2295', '2296', '2297', '2298', '2299', '2300', '2302', '2303', '2307', '2309', '2310', '2311', '2312', '2313', '2314', '2316', '2317', '2319', '2320', '2322', '2324', '2326', '2327', '2328', '2331', '2333', '2334', '2335', '2336', '2338', '2339', '2340', '2342', '2343', '2344', '2345', '2349', '2350', '2353', '2354', '2355', '2357', '2358', '2361', '2363', '2364', '2365', '2366', '2368', '2369', '2371', '2372', '2373', '2376', '2377', '2378', '2382', '2383', '2384', '2387', '2389', '2390', '2391', '2392', '2394', '2396', '2398', '2399', '2400', '2403', '2404', '2406', '2408', '2410', '2414', '2415', '2416', '2417', '2418', '2419', '2421', '2422', '2423', '2427', '2428', '2429', '2430', '2431', '2432', '2433', '2434', '2435', '2436', '2437', '2438', '2439', '2440', '2441', '2443', '2445', '2446', '2447', '2448', '2449', '2450', '2451', '2452', '2453', '2454', '2455', '2456', '2457', '2458', '2461', '2462', '2463', '2464', '2465', '2468', '2469', '2470', '2471', '2472', '2473', '2474', '2475', '2477', '2479', '2483', '2484', '2485', '2486', '2487', '2488', '2490', '2492', '2494', '2495', '2496', '2497', '2498', '2499', '2503', '2509', '2510', '2511', '2514', '2515', '2516', '2517', '2518', '2519', '2520', '2523', '2525', '2526', '2527', '2528', '2530', '2532', '2533', '2535', '2536', '2537', '2538', '2539', '2540', '2541', '2542', '2544', '2546', '2547', '2550', '2551', '2552', '2553', '2554', '2555', '2557', '2558', '2559', '2560', '2561', '2566', '2570', '2571', '2572', '2573', '2574', '2576', '2577', '2580', '2581', '2583', '2584', '2585', '2586', '2587', '2588', '2589', '2590', '2593', '2594', '2595', '2596', '2597', '2598', '2602', '2604', '2605', '2607', '2608', '2609', '2610', '2611', '2612', '2613', '2614', '2615', '2616', '2617', '2618', '2619', '2620', '2623', '2624', '2626', '2627', '2628', '2630', '2631', '2632', '2633', '2635', '2636', '2637', '2638', '2639', '2640', '2644', '2645', '2646', '2648', '2649', '2650', '2651', '2652', '2653', '2654', '2655', '2656', '2657', '2658', '2660', '2661', '2662', '2663', '2664', '2668', '2671', '2672', '2673', '2675', '2682', '2684', '2685', '2686', '2687', '2688', '2689', '2691', '2693', '2694', '2695', '2696', '2697', '2698', '2699', '2700', '2702', '2703', '2705', '2706', '2711', '2714', '2715', '2716', '2717', '2718', '2723', '2724', '2725', '2726', '2727', '2728', '2729', '2730', '2731', '2733', '2734', '2735', '2737', '2740', '2743', '2744', '2745', '2747', '2748', '2749', '2750', '2751', '2752', '2754', '2755', '2756', '2758', '2760', '2762', '2765', '2766', '2769', '2770', '2771', '2772', '2773', '2774', '2776', '2777', '2779', '2780', '2781', '2783', '2784', '2785', '2786', '2787', '2788', '2789', '2790', '2791', '2792', '2794', '2795', '2796', '2797', '2798', '2800', '2801', '2803', '2805', '2806', '2807', '2808', '2810', '2812', '2815', '2816', '2820', '2821', '2822', '2823', '2824', '2825', '2826', '2827', '2828', '2829', '2830', '2831', '2833', '2835', '2836', '2837', '2838', '2839', '2840', '2841', '2843', '2844', '2845', '2846', '2848', '2849', '2850', '2851', '2853', '2854', '2856', '2857', '2858', '2859', '2863', '2864', '2865', '2866', '2867', '2868', '2869', '2871', '2872', '2874', '2876', '2877', '2878', '2879', '2880', '2881', '2882', '2883', '2884', '2885', '2886', '2887', '2888', '2889', '2890', '2891', '2892', '2893', '2894', '2896', '2902', '2904', '2905', '2906', '2908', '2909', '2910', '2911', '2914', '2915', '2917', '2918', '2928', '2929', '2930', '2931', '2932', '2933', '2934', '2935', '2936', '2937', '2938', '2940', '2941', '2948', '2949', '2951', '2952', '2955', '2957', '2963', '2965', '2966', '2967', '2969', '2970', '2971', '2972', '2973', '2974', '2975', '2978', '2979', '2980', '2981', '2983', '2984', '2985', '2986', '2988', '2989', '2990', '2991', '2992', '2993', '2995', '2996', '2999'])\n",
            "dict_values([19, 8, 69, 10, 9, 5, 75, 7, 32, 5, 9, 36, 9, 11, 48, 36, 5, 20, 8, 10, 35, 28, 4, 5, 19, 20, 4, 4, 28, 8, 13, 4, 8, 14, 12, 227, 26, 7, 9, 6, 12, 84, 63, 13, 5, 21, 47, 37, 12, 7, 8, 35, 5, 49, 16, 4, 12, 20, 12, 19, 7, 32, 13, 19, 34, 8, 89, 40, 33, 7, 6, 15, 13, 10, 7, 163, 24, 119, 15, 10, 8, 6, 16, 7, 10, 39, 38, 7, 19, 80, 7, 7, 136, 466, 26, 8, 44, 40, 4, 80, 43, 83, 18, 15, 4, 48, 4, 17, 6, 11, 12, 52, 7, 6, 18, 50, 48, 16, 16, 17, 7, 13, 40, 94, 4, 4, 6, 12, 78, 245, 40, 13, 5, 22, 11, 20, 17, 18, 48, 23, 8, 10, 32, 30, 4, 20, 7, 7, 8, 10, 8, 132, 24, 22, 5, 5, 4, 18, 14, 9, 17, 9, 14, 20, 63, 147, 7, 37, 33, 32, 18, 32, 18, 10, 6, 5, 4, 8, 10, 24, 9, 32, 9, 20, 11, 44, 32, 8, 12, 8, 6, 17, 5, 5, 16, 4, 12, 10, 5, 11, 77, 8, 17, 5, 19, 6, 4, 8, 7, 7, 5, 5, 95, 17, 12, 36, 16, 9, 10, 10, 13, 16, 28, 7, 52, 32, 5, 8, 24, 5, 13, 12, 36, 8, 12, 8, 18, 184, 252, 52, 27, 19, 19, 21, 5, 17, 8, 44, 10, 20, 7, 7, 4, 19, 24, 8, 17, 32, 15, 21, 42, 46, 20, 9, 8, 9, 105, 7, 47, 8, 5, 34, 6, 10, 4, 20, 20, 7, 22, 6, 9, 38, 9, 12, 14, 4, 4, 27, 31, 29, 7, 13, 6, 95, 16, 28, 26, 5, 17, 7, 4, 8, 4, 15, 6, 20, 33, 9, 4, 20, 19, 16, 8, 10, 10, 23, 4, 23, 8, 14, 16, 11, 6, 16, 6, 85, 124, 7, 19, 25, 25, 23, 11, 6, 6, 24, 12, 15, 12, 28, 44, 4, 12, 8, 8, 4, 5, 15, 20, 9, 28, 52, 8, 9, 82, 6, 7, 6, 12, 5, 7, 16, 12, 8, 9, 9, 22, 74, 24, 16, 8, 5, 8, 8, 18, 6, 6, 4, 8, 8, 7, 6, 35, 4, 13, 8, 6, 38, 8, 31, 7, 4, 5, 67, 81, 8, 8, 10, 8, 11, 14, 9, 98, 34, 12, 4, 151, 18, 22, 11, 10, 16, 6, 6, 5, 122, 101, 39, 54, 25, 10, 6, 5, 8, 7, 19, 12, 13, 22, 8, 20, 6, 27, 4, 32, 4, 79, 44, 4, 4, 5, 12, 8, 4, 9, 15, 17, 28, 7, 10, 39, 28, 6, 20, 15, 4, 19, 38, 116, 12, 5, 9, 26, 9, 7, 5, 6, 32, 5, 5, 29, 345, 40, 22, 10, 36, 4, 4, 7, 13, 5, 15, 13, 8, 8, 8, 21, 53, 36, 4, 4, 31, 16, 13, 7, 19, 9, 143, 12, 29, 4, 4, 35, 10, 16, 12, 24, 9, 5, 4, 15, 17, 7, 9, 33, 31, 8, 84, 9, 4, 27, 4, 22, 8, 11, 6, 28, 12, 12, 104, 8, 13, 6, 41, 5, 4, 7, 8, 22, 11, 5, 34, 169, 12, 13, 4, 28, 4, 16, 26, 7, 35, 8, 33, 7, 5, 34, 21, 4, 8, 50, 6, 10, 8, 10, 9, 19, 28, 15, 5, 19, 47, 7, 25, 12, 72, 28, 36, 113, 29, 8, 9, 28, 20, 8, 7, 6, 11, 6, 32, 88, 16, 16, 5, 19, 101, 5, 16, 21, 5, 12, 5, 9, 6, 10, 15, 72, 8, 10, 6, 13, 34, 18, 8, 5, 6, 4, 9, 7, 13, 12, 5, 9, 7, 7, 16, 5, 6, 14, 33, 7, 794, 12, 24, 4, 18, 16, 17, 68, 8, 4, 9, 13, 14, 20, 26, 26, 5, 4, 10, 5, 29, 10, 12, 44, 8, 7, 10, 7, 28, 20, 16, 7, 9, 8, 6, 24, 10, 10, 61, 7, 7, 8, 7, 99, 11, 7, 16, 32, 10, 4, 6, 9, 55, 21, 7, 5, 36, 22, 9, 10, 32, 12, 12, 37, 21, 9, 4, 4, 88, 4, 7, 20, 6, 22, 7, 16, 6, 64, 17, 17, 18, 7, 67, 7, 34, 8, 12, 67, 4, 4, 4, 25, 10, 8, 7, 6, 7, 28, 193, 12, 5, 463, 7, 7, 6, 8, 6, 9, 19, 4, 120, 4, 51, 11, 4, 20, 7, 9, 44, 6, 8, 5, 11, 43, 4, 4, 60, 5, 5, 8, 39, 4, 7, 7, 41, 39, 5, 14, 31, 6, 4, 12, 61, 36, 28, 24, 16, 9, 5, 28, 26, 17, 47, 30, 157, 5, 36, 12, 8, 25, 116, 10, 27, 12, 56, 36, 40, 59, 235, 8, 31, 36, 4, 109, 140, 8, 22, 31, 18, 89, 28, 22, 24, 37, 56, 8, 10, 10, 186, 6, 7, 68, 8, 7, 19, 8, 4, 17, 7, 32, 17, 10, 5, 19, 5, 5, 28, 11, 13, 4, 63, 7, 4, 5, 12, 20, 9, 22, 9, 7, 6, 45, 6, 9, 9, 10, 13, 14, 5, 8, 204, 5, 18, 5, 32, 5, 5, 11, 4, 13, 25, 18, 13, 6, 36, 55, 16, 12, 23, 6, 68, 7, 8, 8, 8, 16, 10, 9, 75, 123, 24, 13, 8, 10, 19, 8, 4, 8, 20, 29, 6, 5, 5, 15, 4, 8, 6, 7, 23, 10, 11, 64, 19, 4, 60, 8, 10, 8, 8, 4, 7, 83, 5, 9, 10, 16, 7, 25, 12, 31, 36, 8, 5, 23, 12, 9, 21, 6, 9, 12, 4, 7, 43, 4, 20, 127, 15, 4, 14, 36, 8, 7, 24, 40, 19, 60, 10, 13, 96, 11, 26, 18, 8, 55, 62, 5, 6, 35, 60, 16, 7, 21, 45, 17, 21, 6, 6, 9, 4, 17, 15, 8, 24, 75, 10, 9, 8, 10, 8, 4, 5, 4, 52, 5, 18, 6, 27, 10, 12, 7, 16, 12, 344, 11, 9, 6, 12, 7, 9, 14, 39, 16, 7, 4, 32, 16, 13, 15, 5, 8, 7, 5, 31, 4, 12, 24, 40, 8, 109, 33, 13, 24, 29, 16, 22, 64, 8, 36, 12, 16, 19, 11, 9, 19, 6, 19, 17, 46, 40, 23, 4, 10, 20, 5, 12, 4, 22, 9, 52, 16, 18, 5, 16, 16, 4, 73, 15, 5, 6, 11, 104, 5, 15, 31, 202, 19, 8, 5, 21, 72, 30, 9, 16, 5, 5, 52, 58, 9, 28, 11, 45, 12, 8, 10, 9, 7, 29, 65, 5, 26, 14, 5, 28, 4, 38, 10, 10, 20, 5, 37, 8, 6, 19, 5, 24, 40, 113, 6, 28, 8, 8, 16, 42, 29, 6, 48, 24, 12, 26, 6, 6, 14, 12, 12, 17, 29, 6, 24, 4, 11, 5, 18, 10, 24, 14, 8, 6, 5, 18, 30, 22, 160, 20, 21, 16, 4, 6, 17, 30, 11, 4, 41, 35, 7, 10, 7, 4, 39, 64, 16, 7, 32, 12, 9, 5, 4, 251, 17, 14, 20, 12, 29, 9, 7, 16, 6, 28, 5, 4, 36, 16, 14, 13, 5, 24, 12, 16, 22, 30, 16, 30, 5, 9, 11, 36, 29, 5, 11, 7, 47, 16, 15, 4, 55, 39, 6, 19, 18, 4, 8, 14, 23, 81, 22, 4, 5, 5, 5, 33, 4, 8, 6, 9, 15, 16, 6, 26, 4, 38, 14, 11, 34, 8, 12, 10, 4, 5, 5, 17, 8, 21, 183, 44, 51, 8, 18, 8, 8, 7, 22, 69, 4, 5, 4, 32, 48, 80, 4, 156, 18, 97, 12, 5, 10, 6, 8, 6, 86, 6, 9, 7, 28, 4, 4, 4, 9, 11, 16, 8, 91, 56, 4, 16, 28, 14, 5, 7, 7, 14, 12, 4, 6, 17, 26, 13, 33, 12, 6, 8, 21, 10, 13, 8, 18, 6, 19, 9, 23, 14, 163, 19, 5, 8, 8, 16, 10, 24, 32, 61, 187, 71, 14, 7, 10, 17, 6, 4, 32, 18, 15, 10, 6, 8, 13, 10, 4, 11, 54, 19, 5, 8, 22, 8, 34, 18, 30, 9, 17])\n"
          ],
          "name": "stdout"
        },
        {
          "output_type": "execute_result",
          "data": {
            "text/plain": [
              "[('1924', 794),\n",
              " ('1127', 466),\n",
              " ('2079', 463),\n",
              " ('1685', 345),\n",
              " ('2474', 344),\n",
              " ('1346', 252),\n",
              " ('2733', 251),\n",
              " ('1189', 245),\n",
              " ('2185', 235),\n",
              " ('1049', 227)]"
            ]
          },
          "metadata": {
            "tags": []
          },
          "execution_count": 204
        }
      ]
    },
    {
      "cell_type": "code",
      "metadata": {
        "id": "qQVALkLZK0mW",
        "colab_type": "code",
        "colab": {}
      },
      "source": [
        "#Check for missing classes \n",
        "train_dic = list(counter.keys())\n",
        "ref = list(range(1000,3000))\n",
        "ref = [str(item) for item in ref]\n",
        "set(ref).difference(set(train_dic))\n"
      ],
      "execution_count": 0,
      "outputs": []
    },
    {
      "cell_type": "code",
      "metadata": {
        "id": "-mp87qeSLNvQ",
        "colab_type": "code",
        "colab": {}
      },
      "source": [
        "# Print validation classes and their sizes \n",
        "import collections\n",
        "import operator\n",
        "counter=collections.Counter(nb_validation_samples[1])\n",
        "#print(counter.keys())\n",
        "#print(counter.values())\n",
        "sorted_counter = dict(sorted(counter.items(), key=operator.itemgetter(1),reverse=True))\n",
        "class_list = list(sorted_counter.keys())\n",
        "class_list = class_list[0:1500]\n",
        "(class_list)"
      ],
      "execution_count": 0,
      "outputs": []
    },
    {
      "cell_type": "code",
      "metadata": {
        "id": "DKCuNyW0K6Wb",
        "colab_type": "code",
        "outputId": "42926c17-c616-43fb-92e2-d433259696a4",
        "colab": {
          "base_uri": "https://localhost:8080/",
          "height": 34
        }
      },
      "source": [
        "train_data_dir = 'Data/train_images_model'\n",
        "validation_data_dir = 'Data/validation_images_model'\n",
        "\n",
        "#counts the number of files in subdirectories of a given directory. \n",
        "#outputs the count of images and label of each image in order of reading.\n",
        "\n",
        "def count(dir):\n",
        "    i = 1000\n",
        "    count = []\n",
        "    while i <= 2999:\n",
        "        f = str(i)\n",
        "        #print (f)\n",
        "        for root, dirs, files in os.walk(dir +'/'+ f):  # loop through startfolders\n",
        "            for pic in files:\n",
        "                if (f in class_list):\n",
        "                  count.append(f) \n",
        "               \n",
        "        i += 1\n",
        "    print (len(count))\n",
        "    return ([len(count),count])\n",
        "\n",
        "nb_train_samples = count(train_data_dir)\n",
        "\n"
      ],
      "execution_count": 0,
      "outputs": [
        {
          "output_type": "stream",
          "text": [
            "32256\n"
          ],
          "name": "stdout"
        }
      ]
    },
    {
      "cell_type": "code",
      "metadata": {
        "id": "WfXIWvfqLOXF",
        "colab_type": "code",
        "colab": {}
      },
      "source": [
        "nb_train_samples"
      ],
      "execution_count": 0,
      "outputs": []
    },
    {
      "cell_type": "code",
      "metadata": {
        "id": "jA-PRalDSwYq",
        "colab_type": "code",
        "colab": {}
      },
      "source": [
        "#Manual removal of images - in order to gurentee that the overall number divide by the batch size\n",
        "\n",
        "### Remove images from the train data set \n",
        "CL = '1924' #class from which to move images\n",
        "NI = 272 #Number of images to be moved\n",
        "\n",
        "i = 0\n",
        "for files in os.listdir(r'Data/train_images_model/' + CL):    # loop through startfolders\n",
        "            i+=1\n",
        "            inpath = r'Data/train_images_model/' + CL + '/' + files\n",
        "            outpath = r'Data/moved_images' \n",
        "            shutil.move(inpath, outpath)\n",
        "            if i == NI:\n",
        "                break\n",
        "                \n",
        "          \n",
        "                \n",
        "# Remove images from the validation data set \n",
        "CL = '1924' #class from which to move images\n",
        "NI = 86 #Number of images to be moved\n",
        "i=0\n",
        "for files in os.listdir(r'Data/validation_images_model/' + CL):    # loop through startfolders\n",
        "            i+=1\n",
        "            inpath = r'Data/validation_images_model/' + CL + '/' + files\n",
        "            outpath = r'Data/moved_images' \n",
        "            shutil.move(inpath, outpath)\n",
        "            if i == NI:\n",
        "                break\n",
        "                \n",
        "              "
      ],
      "execution_count": 0,
      "outputs": []
    },
    {
      "cell_type": "code",
      "metadata": {
        "id": "NN_BZsoNEPyX",
        "colab_type": "code",
        "colab": {}
      },
      "source": [
        "#Remove some problmatic files \n",
        "!rm 'Data/train_images_model/2162/d283284e0eb15ed0.jpg'\n",
        "!rm 'Data/train_images_model/2474/da768cf87103075a.jpg'\n",
        "!rm 'Data/validation_images_model/1453/d876bceade04db19.jpg'"
      ],
      "execution_count": 0,
      "outputs": []
    },
    {
      "cell_type": "code",
      "metadata": {
        "id": "qTGfVX_3r8h9",
        "colab_type": "code",
        "outputId": "031779a7-942b-4add-ef61-798a15be0246",
        "colab": {
          "base_uri": "https://localhost:8080/",
          "height": 391
        }
      },
      "source": [
        "\n",
        "\n",
        "img_width, img_height = 128, 128 # dimensions of downloaded images.\n",
        "top_model_weights_path = 'bottleneck_fc_model.h5' # A file with this name would be saved later in the code\n",
        "epochs = 5\n",
        "batch_size = 128 #As found in the previous step\n",
        "def save_bottleneck_features():\n",
        "    datagen = ImageDataGenerator(rescale=1. / 255,\n",
        "                                 rotation_range=30,\n",
        "                                 width_shift_range=0.2,\n",
        "                                 height_shift_range=0.2,\n",
        "                                 zoom_range = 0.5,\n",
        "                                 brightness_range = [0.5,1.5])\n",
        "\n",
        "#     build the VGG16 network\n",
        "    model = applications.VGG16(include_top=False, weights='imagenet', input_shape=(128,128,3))\n",
        "    print ('start1')\n",
        "    generator = datagen.flow_from_directory(\n",
        "        train_data_dir,\n",
        "        target_size=(img_width, img_height),\n",
        "        batch_size=batch_size,\n",
        "        classes=ref, # this means our generator will only yield batches of data, no labels\n",
        "        shuffle=False) # our data will be in order\n",
        "    \n",
        "#     the predict_generator method returns the output of a model, given a generator that yields batches of numpy data\n",
        "    print ('start2')\n",
        "    bottleneck_features_train = model.predict_generator(generator, nb_train_samples[0] // batch_size) \n",
        "    print ('bottleneck_features_trained')\n",
        "    \n",
        "    \n",
        "    with open('bottleneck_features_train.npy', 'wb') as features_train_file:\n",
        "        np.save(features_train_file, bottleneck_features_train)\n",
        "    print ('Train done')\n",
        "    \n",
        "\n",
        "\n",
        "    datagen = ImageDataGenerator(rescale=1. / 255) #No image augmentation in validation dataset\n",
        "    generator = datagen.flow_from_directory(\n",
        "        validation_data_dir,\n",
        "        target_size=(img_width, img_height),\n",
        "        batch_size=batch_size,\n",
        "        classes=ref,\n",
        "        shuffle=False)\n",
        "    print ('validation predict start')\n",
        "    bottleneck_features_validation = model.predict_generator(generator, nb_validation_samples[0] // batch_size)\n",
        "    \n",
        "    with open('bottleneck_features_validation.npy', 'wb') as features_validation_file:\n",
        "        np.save(features_validation_file, bottleneck_features_validation)\n",
        "    print ('validation done')\n",
        "save_bottleneck_features()"
      ],
      "execution_count": 0,
      "outputs": [
        {
          "output_type": "stream",
          "text": [
            "start1\n",
            "Found 33730 images belonging to 2000 classes.\n",
            "start2\n"
          ],
          "name": "stdout"
        },
        {
          "output_type": "error",
          "ename": "KeyboardInterrupt",
          "evalue": "ignored",
          "traceback": [
            "\u001b[0;31m---------------------------------------------------------------------------\u001b[0m",
            "\u001b[0;31mKeyboardInterrupt\u001b[0m                         Traceback (most recent call last)",
            "\u001b[0;32m<ipython-input-64-fa367775d183>\u001b[0m in \u001b[0;36m<module>\u001b[0;34m()\u001b[0m\n\u001b[1;32m     48\u001b[0m         \u001b[0mnp\u001b[0m\u001b[0;34m.\u001b[0m\u001b[0msave\u001b[0m\u001b[0;34m(\u001b[0m\u001b[0mfeatures_validation_file\u001b[0m\u001b[0;34m,\u001b[0m \u001b[0mbottleneck_features_validation\u001b[0m\u001b[0;34m)\u001b[0m\u001b[0;34m\u001b[0m\u001b[0;34m\u001b[0m\u001b[0m\n\u001b[1;32m     49\u001b[0m     \u001b[0mprint\u001b[0m \u001b[0;34m(\u001b[0m\u001b[0;34m'validation done'\u001b[0m\u001b[0;34m)\u001b[0m\u001b[0;34m\u001b[0m\u001b[0;34m\u001b[0m\u001b[0m\n\u001b[0;32m---> 50\u001b[0;31m \u001b[0msave_bottleneck_features\u001b[0m\u001b[0;34m(\u001b[0m\u001b[0;34m)\u001b[0m\u001b[0;34m\u001b[0m\u001b[0;34m\u001b[0m\u001b[0m\n\u001b[0m",
            "\u001b[0;32m<ipython-input-64-fa367775d183>\u001b[0m in \u001b[0;36msave_bottleneck_features\u001b[0;34m()\u001b[0m\n\u001b[1;32m     25\u001b[0m \u001b[0;31m#     the predict_generator method returns the output of a model, given a generator that yields batches of numpy data\u001b[0m\u001b[0;34m\u001b[0m\u001b[0;34m\u001b[0m\u001b[0;34m\u001b[0m\u001b[0m\n\u001b[1;32m     26\u001b[0m     \u001b[0mprint\u001b[0m \u001b[0;34m(\u001b[0m\u001b[0;34m'start2'\u001b[0m\u001b[0;34m)\u001b[0m\u001b[0;34m\u001b[0m\u001b[0;34m\u001b[0m\u001b[0m\n\u001b[0;32m---> 27\u001b[0;31m     \u001b[0mbottleneck_features_train\u001b[0m \u001b[0;34m=\u001b[0m \u001b[0mmodel\u001b[0m\u001b[0;34m.\u001b[0m\u001b[0mpredict_generator\u001b[0m\u001b[0;34m(\u001b[0m\u001b[0mgenerator\u001b[0m\u001b[0;34m,\u001b[0m \u001b[0mnb_train_samples\u001b[0m\u001b[0;34m[\u001b[0m\u001b[0;36m0\u001b[0m\u001b[0;34m]\u001b[0m \u001b[0;34m//\u001b[0m \u001b[0mbatch_size\u001b[0m\u001b[0;34m)\u001b[0m\u001b[0;34m\u001b[0m\u001b[0;34m\u001b[0m\u001b[0m\n\u001b[0m\u001b[1;32m     28\u001b[0m     \u001b[0mprint\u001b[0m \u001b[0;34m(\u001b[0m\u001b[0;34m'bottleneck_features_trained'\u001b[0m\u001b[0;34m)\u001b[0m\u001b[0;34m\u001b[0m\u001b[0;34m\u001b[0m\u001b[0m\n\u001b[1;32m     29\u001b[0m \u001b[0;34m\u001b[0m\u001b[0m\n",
            "\u001b[0;32m/usr/local/lib/python3.6/dist-packages/keras/legacy/interfaces.py\u001b[0m in \u001b[0;36mwrapper\u001b[0;34m(*args, **kwargs)\u001b[0m\n\u001b[1;32m     89\u001b[0m                 warnings.warn('Update your `' + object_name + '` call to the ' +\n\u001b[1;32m     90\u001b[0m                               'Keras 2 API: ' + signature, stacklevel=2)\n\u001b[0;32m---> 91\u001b[0;31m             \u001b[0;32mreturn\u001b[0m \u001b[0mfunc\u001b[0m\u001b[0;34m(\u001b[0m\u001b[0;34m*\u001b[0m\u001b[0margs\u001b[0m\u001b[0;34m,\u001b[0m \u001b[0;34m**\u001b[0m\u001b[0mkwargs\u001b[0m\u001b[0;34m)\u001b[0m\u001b[0;34m\u001b[0m\u001b[0;34m\u001b[0m\u001b[0m\n\u001b[0m\u001b[1;32m     92\u001b[0m         \u001b[0mwrapper\u001b[0m\u001b[0;34m.\u001b[0m\u001b[0m_original_function\u001b[0m \u001b[0;34m=\u001b[0m \u001b[0mfunc\u001b[0m\u001b[0;34m\u001b[0m\u001b[0;34m\u001b[0m\u001b[0m\n\u001b[1;32m     93\u001b[0m         \u001b[0;32mreturn\u001b[0m \u001b[0mwrapper\u001b[0m\u001b[0;34m\u001b[0m\u001b[0;34m\u001b[0m\u001b[0m\n",
            "\u001b[0;32m/usr/local/lib/python3.6/dist-packages/keras/engine/training.py\u001b[0m in \u001b[0;36mpredict_generator\u001b[0;34m(self, generator, steps, max_queue_size, workers, use_multiprocessing, verbose)\u001b[0m\n\u001b[1;32m   1520\u001b[0m             \u001b[0mworkers\u001b[0m\u001b[0;34m=\u001b[0m\u001b[0mworkers\u001b[0m\u001b[0;34m,\u001b[0m\u001b[0;34m\u001b[0m\u001b[0;34m\u001b[0m\u001b[0m\n\u001b[1;32m   1521\u001b[0m             \u001b[0muse_multiprocessing\u001b[0m\u001b[0;34m=\u001b[0m\u001b[0muse_multiprocessing\u001b[0m\u001b[0;34m,\u001b[0m\u001b[0;34m\u001b[0m\u001b[0;34m\u001b[0m\u001b[0m\n\u001b[0;32m-> 1522\u001b[0;31m             verbose=verbose)\n\u001b[0m",
            "\u001b[0;32m/usr/local/lib/python3.6/dist-packages/keras/engine/training_generator.py\u001b[0m in \u001b[0;36mpredict_generator\u001b[0;34m(model, generator, steps, max_queue_size, workers, use_multiprocessing, verbose)\u001b[0m\n\u001b[1;32m    433\u001b[0m \u001b[0;34m\u001b[0m\u001b[0m\n\u001b[1;32m    434\u001b[0m         \u001b[0;32mwhile\u001b[0m \u001b[0msteps_done\u001b[0m \u001b[0;34m<\u001b[0m \u001b[0msteps\u001b[0m\u001b[0;34m:\u001b[0m\u001b[0;34m\u001b[0m\u001b[0;34m\u001b[0m\u001b[0m\n\u001b[0;32m--> 435\u001b[0;31m             \u001b[0mgenerator_output\u001b[0m \u001b[0;34m=\u001b[0m \u001b[0mnext\u001b[0m\u001b[0;34m(\u001b[0m\u001b[0moutput_generator\u001b[0m\u001b[0;34m)\u001b[0m\u001b[0;34m\u001b[0m\u001b[0;34m\u001b[0m\u001b[0m\n\u001b[0m\u001b[1;32m    436\u001b[0m             \u001b[0;32mif\u001b[0m \u001b[0misinstance\u001b[0m\u001b[0;34m(\u001b[0m\u001b[0mgenerator_output\u001b[0m\u001b[0;34m,\u001b[0m \u001b[0mtuple\u001b[0m\u001b[0;34m)\u001b[0m\u001b[0;34m:\u001b[0m\u001b[0;34m\u001b[0m\u001b[0;34m\u001b[0m\u001b[0m\n\u001b[1;32m    437\u001b[0m                 \u001b[0;31m# Compatibility with the generators\u001b[0m\u001b[0;34m\u001b[0m\u001b[0;34m\u001b[0m\u001b[0;34m\u001b[0m\u001b[0m\n",
            "\u001b[0;32m/usr/local/lib/python3.6/dist-packages/keras/utils/data_utils.py\u001b[0m in \u001b[0;36mget\u001b[0;34m(self)\u001b[0m\n\u001b[1;32m    683\u001b[0m         \u001b[0;32mtry\u001b[0m\u001b[0;34m:\u001b[0m\u001b[0;34m\u001b[0m\u001b[0;34m\u001b[0m\u001b[0m\n\u001b[1;32m    684\u001b[0m             \u001b[0;32mwhile\u001b[0m \u001b[0mself\u001b[0m\u001b[0;34m.\u001b[0m\u001b[0mis_running\u001b[0m\u001b[0;34m(\u001b[0m\u001b[0;34m)\u001b[0m\u001b[0;34m:\u001b[0m\u001b[0;34m\u001b[0m\u001b[0;34m\u001b[0m\u001b[0m\n\u001b[0;32m--> 685\u001b[0;31m                 \u001b[0minputs\u001b[0m \u001b[0;34m=\u001b[0m \u001b[0mself\u001b[0m\u001b[0;34m.\u001b[0m\u001b[0mqueue\u001b[0m\u001b[0;34m.\u001b[0m\u001b[0mget\u001b[0m\u001b[0;34m(\u001b[0m\u001b[0mblock\u001b[0m\u001b[0;34m=\u001b[0m\u001b[0;32mTrue\u001b[0m\u001b[0;34m)\u001b[0m\u001b[0;34m.\u001b[0m\u001b[0mget\u001b[0m\u001b[0;34m(\u001b[0m\u001b[0;34m)\u001b[0m\u001b[0;34m\u001b[0m\u001b[0;34m\u001b[0m\u001b[0m\n\u001b[0m\u001b[1;32m    686\u001b[0m                 \u001b[0mself\u001b[0m\u001b[0;34m.\u001b[0m\u001b[0mqueue\u001b[0m\u001b[0;34m.\u001b[0m\u001b[0mtask_done\u001b[0m\u001b[0;34m(\u001b[0m\u001b[0;34m)\u001b[0m\u001b[0;34m\u001b[0m\u001b[0;34m\u001b[0m\u001b[0m\n\u001b[1;32m    687\u001b[0m                 \u001b[0;32mif\u001b[0m \u001b[0minputs\u001b[0m \u001b[0;32mis\u001b[0m \u001b[0;32mnot\u001b[0m \u001b[0;32mNone\u001b[0m\u001b[0;34m:\u001b[0m\u001b[0;34m\u001b[0m\u001b[0;34m\u001b[0m\u001b[0m\n",
            "\u001b[0;32m/usr/lib/python3.6/multiprocessing/pool.py\u001b[0m in \u001b[0;36mget\u001b[0;34m(self, timeout)\u001b[0m\n\u001b[1;32m    662\u001b[0m \u001b[0;34m\u001b[0m\u001b[0m\n\u001b[1;32m    663\u001b[0m     \u001b[0;32mdef\u001b[0m \u001b[0mget\u001b[0m\u001b[0;34m(\u001b[0m\u001b[0mself\u001b[0m\u001b[0;34m,\u001b[0m \u001b[0mtimeout\u001b[0m\u001b[0;34m=\u001b[0m\u001b[0;32mNone\u001b[0m\u001b[0;34m)\u001b[0m\u001b[0;34m:\u001b[0m\u001b[0;34m\u001b[0m\u001b[0;34m\u001b[0m\u001b[0m\n\u001b[0;32m--> 664\u001b[0;31m         \u001b[0mself\u001b[0m\u001b[0;34m.\u001b[0m\u001b[0mwait\u001b[0m\u001b[0;34m(\u001b[0m\u001b[0mtimeout\u001b[0m\u001b[0;34m)\u001b[0m\u001b[0;34m\u001b[0m\u001b[0;34m\u001b[0m\u001b[0m\n\u001b[0m\u001b[1;32m    665\u001b[0m         \u001b[0;32mif\u001b[0m \u001b[0;32mnot\u001b[0m \u001b[0mself\u001b[0m\u001b[0;34m.\u001b[0m\u001b[0mready\u001b[0m\u001b[0;34m(\u001b[0m\u001b[0;34m)\u001b[0m\u001b[0;34m:\u001b[0m\u001b[0;34m\u001b[0m\u001b[0;34m\u001b[0m\u001b[0m\n\u001b[1;32m    666\u001b[0m             \u001b[0;32mraise\u001b[0m \u001b[0mTimeoutError\u001b[0m\u001b[0;34m\u001b[0m\u001b[0;34m\u001b[0m\u001b[0m\n",
            "\u001b[0;32m/usr/lib/python3.6/multiprocessing/pool.py\u001b[0m in \u001b[0;36mwait\u001b[0;34m(self, timeout)\u001b[0m\n\u001b[1;32m    659\u001b[0m \u001b[0;34m\u001b[0m\u001b[0m\n\u001b[1;32m    660\u001b[0m     \u001b[0;32mdef\u001b[0m \u001b[0mwait\u001b[0m\u001b[0;34m(\u001b[0m\u001b[0mself\u001b[0m\u001b[0;34m,\u001b[0m \u001b[0mtimeout\u001b[0m\u001b[0;34m=\u001b[0m\u001b[0;32mNone\u001b[0m\u001b[0;34m)\u001b[0m\u001b[0;34m:\u001b[0m\u001b[0;34m\u001b[0m\u001b[0;34m\u001b[0m\u001b[0m\n\u001b[0;32m--> 661\u001b[0;31m         \u001b[0mself\u001b[0m\u001b[0;34m.\u001b[0m\u001b[0m_event\u001b[0m\u001b[0;34m.\u001b[0m\u001b[0mwait\u001b[0m\u001b[0;34m(\u001b[0m\u001b[0mtimeout\u001b[0m\u001b[0;34m)\u001b[0m\u001b[0;34m\u001b[0m\u001b[0;34m\u001b[0m\u001b[0m\n\u001b[0m\u001b[1;32m    662\u001b[0m \u001b[0;34m\u001b[0m\u001b[0m\n\u001b[1;32m    663\u001b[0m     \u001b[0;32mdef\u001b[0m \u001b[0mget\u001b[0m\u001b[0;34m(\u001b[0m\u001b[0mself\u001b[0m\u001b[0;34m,\u001b[0m \u001b[0mtimeout\u001b[0m\u001b[0;34m=\u001b[0m\u001b[0;32mNone\u001b[0m\u001b[0;34m)\u001b[0m\u001b[0;34m:\u001b[0m\u001b[0;34m\u001b[0m\u001b[0;34m\u001b[0m\u001b[0m\n",
            "\u001b[0;32m/usr/lib/python3.6/threading.py\u001b[0m in \u001b[0;36mwait\u001b[0;34m(self, timeout)\u001b[0m\n\u001b[1;32m    549\u001b[0m             \u001b[0msignaled\u001b[0m \u001b[0;34m=\u001b[0m \u001b[0mself\u001b[0m\u001b[0;34m.\u001b[0m\u001b[0m_flag\u001b[0m\u001b[0;34m\u001b[0m\u001b[0;34m\u001b[0m\u001b[0m\n\u001b[1;32m    550\u001b[0m             \u001b[0;32mif\u001b[0m \u001b[0;32mnot\u001b[0m \u001b[0msignaled\u001b[0m\u001b[0;34m:\u001b[0m\u001b[0;34m\u001b[0m\u001b[0;34m\u001b[0m\u001b[0m\n\u001b[0;32m--> 551\u001b[0;31m                 \u001b[0msignaled\u001b[0m \u001b[0;34m=\u001b[0m \u001b[0mself\u001b[0m\u001b[0;34m.\u001b[0m\u001b[0m_cond\u001b[0m\u001b[0;34m.\u001b[0m\u001b[0mwait\u001b[0m\u001b[0;34m(\u001b[0m\u001b[0mtimeout\u001b[0m\u001b[0;34m)\u001b[0m\u001b[0;34m\u001b[0m\u001b[0;34m\u001b[0m\u001b[0m\n\u001b[0m\u001b[1;32m    552\u001b[0m             \u001b[0;32mreturn\u001b[0m \u001b[0msignaled\u001b[0m\u001b[0;34m\u001b[0m\u001b[0;34m\u001b[0m\u001b[0m\n\u001b[1;32m    553\u001b[0m \u001b[0;34m\u001b[0m\u001b[0m\n",
            "\u001b[0;32m/usr/lib/python3.6/threading.py\u001b[0m in \u001b[0;36mwait\u001b[0;34m(self, timeout)\u001b[0m\n\u001b[1;32m    293\u001b[0m         \u001b[0;32mtry\u001b[0m\u001b[0;34m:\u001b[0m    \u001b[0;31m# restore state no matter what (e.g., KeyboardInterrupt)\u001b[0m\u001b[0;34m\u001b[0m\u001b[0;34m\u001b[0m\u001b[0m\n\u001b[1;32m    294\u001b[0m             \u001b[0;32mif\u001b[0m \u001b[0mtimeout\u001b[0m \u001b[0;32mis\u001b[0m \u001b[0;32mNone\u001b[0m\u001b[0;34m:\u001b[0m\u001b[0;34m\u001b[0m\u001b[0;34m\u001b[0m\u001b[0m\n\u001b[0;32m--> 295\u001b[0;31m                 \u001b[0mwaiter\u001b[0m\u001b[0;34m.\u001b[0m\u001b[0macquire\u001b[0m\u001b[0;34m(\u001b[0m\u001b[0;34m)\u001b[0m\u001b[0;34m\u001b[0m\u001b[0;34m\u001b[0m\u001b[0m\n\u001b[0m\u001b[1;32m    296\u001b[0m                 \u001b[0mgotit\u001b[0m \u001b[0;34m=\u001b[0m \u001b[0;32mTrue\u001b[0m\u001b[0;34m\u001b[0m\u001b[0;34m\u001b[0m\u001b[0m\n\u001b[1;32m    297\u001b[0m             \u001b[0;32melse\u001b[0m\u001b[0;34m:\u001b[0m\u001b[0;34m\u001b[0m\u001b[0;34m\u001b[0m\u001b[0m\n",
            "\u001b[0;31mKeyboardInterrupt\u001b[0m: "
          ]
        }
      ]
    },
    {
      "cell_type": "markdown",
      "metadata": {
        "id": "Uz0I6eZgUVRY",
        "colab_type": "text"
      },
      "source": [
        "### Initializing the weights on top 3 layers"
      ]
    },
    {
      "cell_type": "code",
      "metadata": {
        "id": "jPA1VT_3T6xJ",
        "colab_type": "code",
        "outputId": "dae62d86-496a-4ab1-ca02-af332a0e2047",
        "colab": {
          "base_uri": "https://localhost:8080/",
          "height": 595
        }
      },
      "source": [
        "epochs = 15\n",
        "batch_size = 940\n",
        "import numpy as np\n",
        "\n",
        "def train_top_model():\n",
        "    train_data = np.load(open('bottleneck_features_train.npy', 'rb'))\n",
        "    train_labels = np.array(nb_train_samples[1])\n",
        "    train_labels = [str(int(train_label) - 1000) for train_label in train_labels] \n",
        "    #Had to subtract 1000 because class labels should start from 0. In this case, class labels had a range from 1000 to 2999. \n",
        "#     print (train_labels)\n",
        "    validation_data = np.load(open('bottleneck_features_validation.npy', 'rb'))\n",
        "    \n",
        "    validation_labels = np.array(nb_validation_samples[1])\n",
        "    validation_labels = [str(int(validation_label) - 1000) for validation_label in validation_labels]\n",
        "    print(len(validation_data))\n",
        "#     print (validation_labels)\n",
        "    model = Sequential()\n",
        "    model.add(Flatten(input_shape=train_data.shape[1:]))\n",
        "    model.add(Dense(256, activation='relu'))\n",
        "    model.add(Dense(256, activation='relu'))\n",
        "    n_class = 2000 #number of classes fed to the model\n",
        "    model.add(Dense(n_class, activation='softmax'))\n",
        "    \n",
        "    \n",
        "    \n",
        "    model.compile(optimizer='rmsprop',\n",
        "                  loss='categorical_crossentropy', metrics=['accuracy'])\n",
        "    print(len(validation_labels),n_class)\n",
        "    train_labels = to_categorical(train_labels, n_class)\n",
        "   \n",
        "    validation_labels = to_categorical(validation_labels, n_class)\n",
        "    \n",
        "    print ('model fit starting')\n",
        "    model.fit(train_data, train_labels,\n",
        "              epochs=epochs,\n",
        "              batch_size=batch_size,\n",
        "              validation_data=(validation_data, validation_labels))\n",
        "    model.save_weights(top_model_weights_path)\n",
        "\n",
        "train_top_model()"
      ],
      "execution_count": 0,
      "outputs": [
        {
          "output_type": "stream",
          "text": [
            "7424\n",
            "7424 2000\n",
            "model fit starting\n",
            "Train on 32256 samples, validate on 7424 samples\n",
            "Epoch 1/15\n",
            "32256/32256 [==============================] - 4s 118us/step - loss: 6.7902 - acc: 0.0181 - val_loss: 6.5858 - val_acc: 0.0228\n",
            "Epoch 2/15\n",
            "32256/32256 [==============================] - 1s 46us/step - loss: 6.4677 - acc: 0.0265 - val_loss: 6.7281 - val_acc: 0.0245\n",
            "Epoch 3/15\n",
            "32256/32256 [==============================] - 1s 45us/step - loss: 6.2833 - acc: 0.0309 - val_loss: 6.8061 - val_acc: 0.0172\n",
            "Epoch 4/15\n",
            "32256/32256 [==============================] - 1s 45us/step - loss: 6.1078 - acc: 0.0374 - val_loss: 6.9268 - val_acc: 0.0183\n",
            "Epoch 5/15\n",
            "32256/32256 [==============================] - 1s 45us/step - loss: 5.9308 - acc: 0.0458 - val_loss: 7.1082 - val_acc: 0.0206\n",
            "Epoch 6/15\n",
            "32256/32256 [==============================] - 1s 45us/step - loss: 5.7693 - acc: 0.0530 - val_loss: 7.3003 - val_acc: 0.0290\n",
            "Epoch 7/15\n",
            "32256/32256 [==============================] - 1s 45us/step - loss: 5.5947 - acc: 0.0612 - val_loss: 7.5668 - val_acc: 0.0242\n",
            "Epoch 8/15\n",
            "32256/32256 [==============================] - 1s 45us/step - loss: 5.4322 - acc: 0.0709 - val_loss: 7.7374 - val_acc: 0.0214\n",
            "Epoch 9/15\n",
            "32256/32256 [==============================] - 1s 45us/step - loss: 5.2737 - acc: 0.0801 - val_loss: 7.9172 - val_acc: 0.0205\n",
            "Epoch 10/15\n",
            "32256/32256 [==============================] - 1s 45us/step - loss: 5.1185 - acc: 0.0916 - val_loss: 8.2011 - val_acc: 0.0244\n",
            "Epoch 11/15\n",
            "32256/32256 [==============================] - 1s 46us/step - loss: 4.9608 - acc: 0.1024 - val_loss: 8.3459 - val_acc: 0.0186\n",
            "Epoch 12/15\n",
            "32256/32256 [==============================] - 1s 45us/step - loss: 4.7946 - acc: 0.1170 - val_loss: 8.5023 - val_acc: 0.0194\n",
            "Epoch 13/15\n",
            "32256/32256 [==============================] - 1s 45us/step - loss: 4.6462 - acc: 0.1317 - val_loss: 8.6403 - val_acc: 0.0189\n",
            "Epoch 14/15\n",
            "32256/32256 [==============================] - 1s 45us/step - loss: 4.4987 - acc: 0.1506 - val_loss: 8.7874 - val_acc: 0.0152\n",
            "Epoch 15/15\n",
            "32256/32256 [==============================] - 1s 45us/step - loss: 4.3462 - acc: 0.1664 - val_loss: 9.0490 - val_acc: 0.0186\n"
          ],
          "name": "stdout"
        }
      ]
    },
    {
      "cell_type": "markdown",
      "metadata": {
        "id": "_Oxgnlg_KBA7",
        "colab_type": "text"
      },
      "source": [
        "## Initializing the weights on top 3 layers"
      ]
    },
    {
      "cell_type": "code",
      "metadata": {
        "id": "TzQkW2gNoh5X",
        "colab_type": "code",
        "outputId": "1d32ffb0-aa62-4eff-b2b9-047bd58afdb3",
        "colab": {
          "base_uri": "https://localhost:8080/",
          "height": 316
        }
      },
      "source": [
        "img_width, img_height = 128, 128\n",
        "top_model_weights_path = 'bottleneck_fc_model.h5'\n",
        "train_data_dir = 'Data/train_images_model'\n",
        "validation_data_dir = 'Data/validation_images_model'\n",
        "batch_size = 240\n",
        "epochs = 32\n",
        "def trainCNN():\n",
        "\n",
        "    # build the VGG16 network\n",
        "\n",
        "    base_model = applications.VGG16(weights='imagenet',include_top= False,input_shape=(128,128,3))\n",
        "    top_model = Sequential()\n",
        "    top_model.add(Flatten(input_shape=base_model.output_shape[1:]))\n",
        "    top_model.add(Dense(256, activation='relu'))\n",
        "    top_model.add(Dense(256, activation='relu'))\n",
        "    n_class = 2000\n",
        "    top_model.add(Dense(n_class, activation='softmax'))\n",
        "    top_model.load_weights(top_model_weights_path) #Load the weights initialized in previous steps\n",
        "    \n",
        "\n",
        "    model = Model(input= base_model.input, output= top_model(base_model.output))\n",
        "    \n",
        "    # set the first 16 layers to non-trainable (weights will not be updated) - 1 conv layer and three dense layers will be trained\n",
        "    for layer in model.layers[:16]:\n",
        "        layer.trainable = False\n",
        "\n",
        "    # compile the model with a SGD/momentum optimizer and a very slow learning rate.\n",
        "    model.compile(loss='categorical_crossentropy',\n",
        "                  optimizer=optimizers.Adam(lr=0.001, beta_1=0.9,beta_2=0.999,epsilon=1e-8, decay=0.0),\n",
        "                  metrics=['accuracy'])\n",
        "    print ('Compilation done.')\n",
        "    \n",
        "    train_datagen = ImageDataGenerator(rescale=1. / 255,\n",
        "                                       rotation_range=90,\n",
        "                                        width_shift_range=0.2,\n",
        "                                        height_shift_range=0.2,\n",
        "                                        zoom_range = 0.5)\n",
        "    \n",
        "    valid_datagen = ImageDataGenerator(rescale=1. / 255)\n",
        "\n",
        "    train_generator = train_datagen.flow_from_directory(\n",
        "        train_data_dir,\n",
        "        target_size=(img_height, img_width),\n",
        "        batch_size=batch_size,\n",
        "        class_mode='categorical')\n",
        "\n",
        "    np.save('class_indices.npy', train_generator.class_indices)\n",
        "\n",
        "    validation_generator = valid_datagen.flow_from_directory(\n",
        "        validation_data_dir,\n",
        "        target_size=(img_height, img_width),\n",
        "        batch_size=batch_size,\n",
        "        class_mode='categorical',classes=ref\n",
        "         )\n",
        "    \n",
        "    print ('Model fit begins...')\n",
        "    model.fit_generator(\n",
        "        train_generator,\n",
        "        steps_per_epoch=340,\n",
        "        epochs=epochs,\n",
        "        validation_data=validation_generator,\n",
        "        validation_steps=150,\n",
        "        callbacks=[ModelCheckpoint(filepath=top_model_weights_path, save_best_only=True, save_weights_only=True)]\n",
        "        )\n",
        "    \n",
        "    model.save_weights(top_model_weights_path)\n",
        "\n",
        "trainCNN()"
      ],
      "execution_count": 0,
      "outputs": [
        {
          "output_type": "error",
          "ename": "NameError",
          "evalue": "ignored",
          "traceback": [
            "\u001b[0;31m---------------------------------------------------------------------------\u001b[0m",
            "\u001b[0;31mNameError\u001b[0m                                 Traceback (most recent call last)",
            "\u001b[0;32m<ipython-input-1-66ff611cbf7b>\u001b[0m in \u001b[0;36m<module>\u001b[0;34m()\u001b[0m\n\u001b[1;32m     66\u001b[0m     \u001b[0mmodel\u001b[0m\u001b[0;34m.\u001b[0m\u001b[0msave_weights\u001b[0m\u001b[0;34m(\u001b[0m\u001b[0mtop_model_weights_path\u001b[0m\u001b[0;34m)\u001b[0m\u001b[0;34m\u001b[0m\u001b[0;34m\u001b[0m\u001b[0m\n\u001b[1;32m     67\u001b[0m \u001b[0;34m\u001b[0m\u001b[0m\n\u001b[0;32m---> 68\u001b[0;31m \u001b[0mtrainCNN\u001b[0m\u001b[0;34m(\u001b[0m\u001b[0;34m)\u001b[0m\u001b[0;34m\u001b[0m\u001b[0;34m\u001b[0m\u001b[0m\n\u001b[0m",
            "\u001b[0;32m<ipython-input-1-66ff611cbf7b>\u001b[0m in \u001b[0;36mtrainCNN\u001b[0;34m()\u001b[0m\n\u001b[1;32m      9\u001b[0m     \u001b[0;31m# build the VGG16 network\u001b[0m\u001b[0;34m\u001b[0m\u001b[0;34m\u001b[0m\u001b[0;34m\u001b[0m\u001b[0m\n\u001b[1;32m     10\u001b[0m \u001b[0;34m\u001b[0m\u001b[0m\n\u001b[0;32m---> 11\u001b[0;31m     \u001b[0mbase_model\u001b[0m \u001b[0;34m=\u001b[0m \u001b[0mapplications\u001b[0m\u001b[0;34m.\u001b[0m\u001b[0mVGG16\u001b[0m\u001b[0;34m(\u001b[0m\u001b[0mweights\u001b[0m\u001b[0;34m=\u001b[0m\u001b[0;34m'imagenet'\u001b[0m\u001b[0;34m,\u001b[0m\u001b[0minclude_top\u001b[0m\u001b[0;34m=\u001b[0m \u001b[0;32mFalse\u001b[0m\u001b[0;34m,\u001b[0m\u001b[0minput_shape\u001b[0m\u001b[0;34m=\u001b[0m\u001b[0;34m(\u001b[0m\u001b[0;36m128\u001b[0m\u001b[0;34m,\u001b[0m\u001b[0;36m128\u001b[0m\u001b[0;34m,\u001b[0m\u001b[0;36m3\u001b[0m\u001b[0;34m)\u001b[0m\u001b[0;34m)\u001b[0m\u001b[0;34m\u001b[0m\u001b[0;34m\u001b[0m\u001b[0m\n\u001b[0m\u001b[1;32m     12\u001b[0m     \u001b[0mtop_model\u001b[0m \u001b[0;34m=\u001b[0m \u001b[0mSequential\u001b[0m\u001b[0;34m(\u001b[0m\u001b[0;34m)\u001b[0m\u001b[0;34m\u001b[0m\u001b[0;34m\u001b[0m\u001b[0m\n\u001b[1;32m     13\u001b[0m     \u001b[0mtop_model\u001b[0m\u001b[0;34m.\u001b[0m\u001b[0madd\u001b[0m\u001b[0;34m(\u001b[0m\u001b[0mFlatten\u001b[0m\u001b[0;34m(\u001b[0m\u001b[0minput_shape\u001b[0m\u001b[0;34m=\u001b[0m\u001b[0mbase_model\u001b[0m\u001b[0;34m.\u001b[0m\u001b[0moutput_shape\u001b[0m\u001b[0;34m[\u001b[0m\u001b[0;36m1\u001b[0m\u001b[0;34m:\u001b[0m\u001b[0;34m]\u001b[0m\u001b[0;34m)\u001b[0m\u001b[0;34m)\u001b[0m\u001b[0;34m\u001b[0m\u001b[0;34m\u001b[0m\u001b[0m\n",
            "\u001b[0;31mNameError\u001b[0m: name 'applications' is not defined"
          ]
        }
      ]
    },
    {
      "cell_type": "code",
      "metadata": {
        "id": "xNsPXXtI13Jp",
        "colab_type": "code",
        "outputId": "658baf11-fb7b-4988-dd0c-8667891ed828",
        "colab": {
          "base_uri": "https://localhost:8080/",
          "height": 68
        }
      },
      "source": [
        "!ls\n",
        "! cp bottleneck_fc_model.h5\t\"/content/gdrive/My Drive/Colab Notebooks/Google Landmark/bottleneck_fc_model.h5\""
      ],
      "execution_count": 0,
      "outputs": [
        {
          "output_type": "stream",
          "text": [
            "bottleneck_fc_model.h5\t\t    class_indices.npy  image.zip\n",
            "bottleneck_features_train.npy\t    Data\t       sample_data\n",
            "bottleneck_features_validation.npy  gdrive\n"
          ],
          "name": "stdout"
        }
      ]
    },
    {
      "cell_type": "markdown",
      "metadata": {
        "id": "uTFIXzbvjzhH",
        "colab_type": "text"
      },
      "source": [
        ""
      ]
    }
  ]
}