{
 "cells": [
  {
   "cell_type": "markdown",
   "metadata": {
    "colab_type": "text",
    "id": "V_ND-cx6uuD8"
   },
   "source": [
    "## Kaggle Google Landmark - Image pre Processing \n",
    "A Python note Book which samples a set of the images from the Kaggle Google Landmark \n",
    "Based on classes threshold \n",
    "Create subdirectories and copy the sample files to these directories \n",
    "It allocates, train, test and validation sets "
   ]
  },
  {
   "cell_type": "markdown",
   "metadata": {
    "colab_type": "text",
    "id": "r_8apZxxvUzr"
   },
   "source": [
    "## Load Libraries \n",
    "Loading the required libraries \n",
    "The implementation is based on the Keras/TenserFlow Python libraries "
   ]
  },
  {
   "cell_type": "code",
   "execution_count": 1,
   "metadata": {
    "colab": {
     "base_uri": "https://localhost:8080/",
     "height": 34
    },
    "colab_type": "code",
    "id": "t5B8jkveX8lU",
    "outputId": "9519b72b-29e2-4111-fca6-653870680003"
   },
   "outputs": [],
   "source": [
    "import pandas as pd\n",
    "import numpy as np\n",
    "from matplotlib import pyplot\n",
    "import matplotlib.pyplot as plt\n",
    "from matplotlib.pyplot import subplots\n",
    "import os\n",
    "import zipfile\n",
    "import random\n",
    "import tarfile\n",
    "import urllib\n",
    "import urllib.request\n",
    "import hashlib\n",
    "import random\n",
    "import requests\n",
    "import random\n",
    "import shutil\n",
    "import re \n",
    "from shutil import copyfile\n",
    "import urllib\n",
    "import glob\n",
    "\n",
    "\n"
   ]
  },
  {
   "cell_type": "markdown",
   "metadata": {
    "colab_type": "text",
    "id": "-ZLiDlmTKpu8"
   },
   "source": [
    "## General Settings "
   ]
  },
  {
   "cell_type": "code",
   "execution_count": 2,
   "metadata": {
    "colab": {},
    "colab_type": "code",
    "id": "suVTg4DcK0kj"
   },
   "outputs": [],
   "source": [
    "#Column/Row length when printing DataFrames \n",
    "pd.set_option('display.max_colwidth', -1)\n",
    "\n",
    "#Root Directory \n",
    "Root_Directory = \"E:Elements/kaggle/GoogleLandmarkRecognition2019/\"\n",
    "Meta_Data_Directory = \"E:/Elements/kaggle/GoogleLandmarkRecognition2019/Meta/\""
   ]
  },
  {
   "cell_type": "markdown",
   "metadata": {
    "colab_type": "text",
    "id": "VoGfujVtX8lX"
   },
   "source": [
    "## Read Data \n",
    "Download the labels and metadata"
   ]
  },
  {
   "cell_type": "code",
   "execution_count": 3,
   "metadata": {
    "colab": {},
    "colab_type": "code",
    "id": "Ys7ecppaX8la"
   },
   "outputs": [],
   "source": [
    "#Read the train.csv from Google drive - This file has all images names and labels of the landmark (Landmark ID)\n",
    "DF_Labels = pd.read_csv(Meta_Data_Directory+\"train.csv\")\n"
   ]
  },
  {
   "cell_type": "code",
   "execution_count": 4,
   "metadata": {
    "colab": {
     "base_uri": "https://localhost:8080/",
     "height": 221
    },
    "colab_type": "code",
    "id": "BjAN8CYJX8ld",
    "outputId": "c2c22888-e04a-4a6f-93ba-d8097f3fcb02"
   },
   "outputs": [
    {
     "name": "stdout",
     "output_type": "stream",
     "text": [
      "(4132914, 3)\n"
     ]
    },
    {
     "data": {
      "text/html": [
       "<div>\n",
       "<style scoped>\n",
       "    .dataframe tbody tr th:only-of-type {\n",
       "        vertical-align: middle;\n",
       "    }\n",
       "\n",
       "    .dataframe tbody tr th {\n",
       "        vertical-align: top;\n",
       "    }\n",
       "\n",
       "    .dataframe thead th {\n",
       "        text-align: right;\n",
       "    }\n",
       "</style>\n",
       "<table border=\"1\" class=\"dataframe\">\n",
       "  <thead>\n",
       "    <tr style=\"text-align: right;\">\n",
       "      <th></th>\n",
       "      <th>id</th>\n",
       "      <th>url</th>\n",
       "      <th>landmark_id</th>\n",
       "    </tr>\n",
       "  </thead>\n",
       "  <tbody>\n",
       "    <tr>\n",
       "      <th>0</th>\n",
       "      <td>6e158a47eb2ca3f6</td>\n",
       "      <td>https://upload.wikimedia.org/wikipedia/commons/b/b5/Observatoriet_v%C3%A4derkammer_2013a.jpg</td>\n",
       "      <td>142820</td>\n",
       "    </tr>\n",
       "    <tr>\n",
       "      <th>1</th>\n",
       "      <td>202cd79556f30760</td>\n",
       "      <td>http://upload.wikimedia.org/wikipedia/commons/6/63/Ecosse200996-1.jpg</td>\n",
       "      <td>104169</td>\n",
       "    </tr>\n",
       "    <tr>\n",
       "      <th>2</th>\n",
       "      <td>3ad87684c99c06e1</td>\n",
       "      <td>http://upload.wikimedia.org/wikipedia/commons/2/2c/Pirmasens_Dynamikum.jpg</td>\n",
       "      <td>37914</td>\n",
       "    </tr>\n",
       "    <tr>\n",
       "      <th>3</th>\n",
       "      <td>e7f70e9c61e66af3</td>\n",
       "      <td>https://upload.wikimedia.org/wikipedia/commons/0/02/Occidental_Vertical.jpg</td>\n",
       "      <td>102140</td>\n",
       "    </tr>\n",
       "    <tr>\n",
       "      <th>4</th>\n",
       "      <td>4072182eddd0100e</td>\n",
       "      <td>https://upload.wikimedia.org/wikipedia/commons/5/51/Looking_downstream_from_the_footbridge_over_the_Severn_-_geograph.org.uk_-_532337.jpg</td>\n",
       "      <td>2474</td>\n",
       "    </tr>\n",
       "  </tbody>\n",
       "</table>\n",
       "</div>"
      ],
      "text/plain": [
       "                 id  \\\n",
       "0  6e158a47eb2ca3f6   \n",
       "1  202cd79556f30760   \n",
       "2  3ad87684c99c06e1   \n",
       "3  e7f70e9c61e66af3   \n",
       "4  4072182eddd0100e   \n",
       "\n",
       "                                                                                                                                         url  \\\n",
       "0  https://upload.wikimedia.org/wikipedia/commons/b/b5/Observatoriet_v%C3%A4derkammer_2013a.jpg                                                \n",
       "1  http://upload.wikimedia.org/wikipedia/commons/6/63/Ecosse200996-1.jpg                                                                       \n",
       "2  http://upload.wikimedia.org/wikipedia/commons/2/2c/Pirmasens_Dynamikum.jpg                                                                  \n",
       "3  https://upload.wikimedia.org/wikipedia/commons/0/02/Occidental_Vertical.jpg                                                                 \n",
       "4  https://upload.wikimedia.org/wikipedia/commons/5/51/Looking_downstream_from_the_footbridge_over_the_Severn_-_geograph.org.uk_-_532337.jpg   \n",
       "\n",
       "   landmark_id  \n",
       "0  142820       \n",
       "1  104169       \n",
       "2  37914        \n",
       "3  102140       \n",
       "4  2474         "
      ]
     },
     "execution_count": 4,
     "metadata": {},
     "output_type": "execute_result"
    }
   ],
   "source": [
    "print(DF_Labels.shape)\n",
    "DF_Labels.head()"
   ]
  },
  {
   "cell_type": "markdown",
   "metadata": {
    "colab_type": "text",
    "id": "JrtyjbAj168b"
   },
   "source": [
    "## Analyze labels "
   ]
  },
  {
   "cell_type": "code",
   "execution_count": 5,
   "metadata": {
    "colab": {
     "base_uri": "https://localhost:8080/",
     "height": 528
    },
    "colab_type": "code",
    "id": "HWvLhedJ2DgX",
    "outputId": "a3761191-1730-45bc-ed8b-08d43ba1967c"
   },
   "outputs": [
    {
     "name": "stdout",
     "output_type": "stream",
     "text": [
      "Total number of diffrent types of Landmarks: 203094\n",
      "Total number of files 4132914\n"
     ]
    },
    {
     "data": {
      "text/plain": [
       "<matplotlib.axes._subplots.AxesSubplot at 0x27981b5be48>"
      ]
     },
     "execution_count": 5,
     "metadata": {},
     "output_type": "execute_result"
    },
    {
     "data": {
      "image/png": "[encoded data removed]",
      "text/plain": [
       "<Figure size 1760x480 with 1 Axes>"
      ]
     },
     "metadata": {},
     "output_type": "display_data"
    }
   ],
   "source": [
    "from matplotlib.pyplot import figure\n",
    "x = (DF_Labels.groupby(['landmark_id']).size()).sort_values(ascending=False)\n",
    "\n",
    "print(\"Total number of diffrent types of Landmarks:\",len(x))\n",
    "print(\"Total number of files\",sum(x))\n",
    "figure(num=None, figsize=(22, 6), dpi=80, facecolor='w', edgecolor='k')\n",
    "plt.title('Top LandMarlk Count')\n",
    "plt.ylabel('Count')\n",
    "plt.xlabel('LandMark ID')\n",
    "x.head(80).plot.bar()"
   ]
  },
  {
   "cell_type": "code",
   "execution_count": 6,
   "metadata": {
    "colab": {},
    "colab_type": "code",
    "id": "akxfVS0hRB3h"
   },
   "outputs": [],
   "source": [
    "random.seed(1234)\n",
    "landmark_list = [str(x) for x in list(range(1000,3000))]\n",
    "data_sample = DF_Labels[DF_Labels['landmark_id'].isin(landmark_list)]"
   ]
  },
  {
   "cell_type": "code",
   "execution_count": 7,
   "metadata": {
    "colab": {
     "base_uri": "https://localhost:8080/",
     "height": 415
    },
    "colab_type": "code",
    "id": "p2NqUHUb154D",
    "outputId": "d32a41f9-c855-4e7f-9496-6ef31566ceda"
   },
   "outputs": [
    {
     "name": "stdout",
     "output_type": "stream",
     "text": [
      "There are: 4132914 Images in the Entire set\n",
      "There are: 42036 Images in the Sample set\n"
     ]
    },
    {
     "data": {
      "image/png": "[encoded data removed]",
      "text/plain": [
       "<Figure size 1080x360 with 2 Axes>"
      ]
     },
     "metadata": {
      "needs_background": "light"
     },
     "output_type": "display_data"
    }
   ],
   "source": [
    "colors = np.array(['#4285f4','#34a853','#fbbc05','#ea4335'])\n",
    "#Define the order in which to display the graph\n",
    "order = ['1-5','5-10','10-50','50-100','100-200','200-500', '>=500']\n",
    "f, (ax1, ax2) = plt.subplots(1, 2,figsize=(15,5))\n",
    "\n",
    "\n",
    "\n",
    "def plot_distribution(data_f, data_k, axis):\n",
    "    # data['landmark_id'].value_counts()\n",
    "    x=data_f.landmark_id.value_counts().index\n",
    "    y=pd.DataFrame(data_f.landmark_id.value_counts())\n",
    "\n",
    "    #Create a variable to group the number of image sin each class\n",
    "    y['Number of images'] = np.where(y['landmark_id']>=500,'>=500',y['landmark_id'])\n",
    "    y['Number of images'] = np.where((y['landmark_id']>=200) & (y['landmark_id']<500),'200-500',y['Number of images'])\n",
    "    y['Number of images'] = np.where((y['landmark_id']>=100) & (y['landmark_id']<200),'100-200',y['Number of images'])\n",
    "    y['Number of images'] = np.where((y['landmark_id']>=50) & (y['landmark_id']<100),'50-100',y['Number of images'])\n",
    "    y['Number of images'] = np.where((y['landmark_id']>=10) & (y['landmark_id']<50),'10-50',y['Number of images'])\n",
    "    y['Number of images'] = np.where((y['landmark_id']>=5) & (y['landmark_id']<10),'5-10',y['Number of images'])\n",
    "    y['Number of images'] = np.where((y['landmark_id']>=0) & (y['landmark_id']<5),'1-5',y['Number of images'])\n",
    "\n",
    "    y['Number of images'].value_counts().loc[order].plot(kind = 'bar',color = colors,width = 0.8, ax=axis)\n",
    "    axis.set_xlabel('Number of images')\n",
    "    axis.set_ylabel('Number of classes')\n",
    "    axis.set_title(data_k)\n",
    "    \n",
    "\n",
    "print(\"There are:\",DF_Labels.shape[0], \"Images in the Entire set\")\n",
    "print(\"There are:\",data_sample.shape[0], \"Images in the Sample set\")\n",
    "plot_distribution(DF_Labels, 'Original', ax1)\n",
    "plot_distribution(data_sample, 'Sample', ax2)\n"
   ]
  },
  {
   "cell_type": "markdown",
   "metadata": {
    "colab_type": "text",
    "id": "nbmYBe4iWfWE"
   },
   "source": [
    "## Test data\n",
    "Download test data"
   ]
  },
  {
   "cell_type": "code",
   "execution_count": 13,
   "metadata": {
    "colab": {
     "base_uri": "https://localhost:8080/",
     "height": 34
    },
    "colab_type": "code",
    "id": "q9sT_SF2U5RS",
    "outputId": "e3004934-4f51-44f1-96bd-7a5d12270106"
   },
   "outputs": [
    {
     "ename": "FileNotFoundError",
     "evalue": "[Errno 2] No such file or directory: 'E:/Elements/kaggle/GoogleLandmarkRecognition2019/Meta/test.csv.zip'",
     "output_type": "error",
     "traceback": [
      "\u001b[1;31m---------------------------------------------------------------------------\u001b[0m",
      "\u001b[1;31mFileNotFoundError\u001b[0m                         Traceback (most recent call last)",
      "\u001b[1;32m<ipython-input-13-de343910d5ca>\u001b[0m in \u001b[0;36m<module>\u001b[1;34m\u001b[0m\n\u001b[0;32m      2\u001b[0m \u001b[1;33m\u001b[0m\u001b[0m\n\u001b[0;32m      3\u001b[0m \u001b[1;31m#Extract the test.csv file from the Zip file\u001b[0m\u001b[1;33m\u001b[0m\u001b[1;33m\u001b[0m\u001b[1;33m\u001b[0m\u001b[0m\n\u001b[1;32m----> 4\u001b[1;33m \u001b[0mzf\u001b[0m \u001b[1;33m=\u001b[0m \u001b[0mzipfile\u001b[0m\u001b[1;33m.\u001b[0m\u001b[0mZipFile\u001b[0m\u001b[1;33m(\u001b[0m\u001b[0mMeta_Data_Directory\u001b[0m\u001b[1;33m+\u001b[0m\u001b[1;34m'test.csv.zip'\u001b[0m\u001b[1;33m,\u001b[0m \u001b[0mmode\u001b[0m\u001b[1;33m=\u001b[0m\u001b[1;34m'r'\u001b[0m\u001b[1;33m)\u001b[0m\u001b[1;33m\u001b[0m\u001b[1;33m\u001b[0m\u001b[0m\n\u001b[0m\u001b[0;32m      5\u001b[0m \u001b[0mzf\u001b[0m\u001b[1;33m.\u001b[0m\u001b[0mextractall\u001b[0m\u001b[1;33m(\u001b[0m\u001b[1;33m)\u001b[0m\u001b[1;33m\u001b[0m\u001b[1;33m\u001b[0m\u001b[0m\n\u001b[0;32m      6\u001b[0m \u001b[0mzf\u001b[0m\u001b[1;33m.\u001b[0m\u001b[0mclose\u001b[0m\u001b[1;33m(\u001b[0m\u001b[1;33m)\u001b[0m\u001b[1;33m\u001b[0m\u001b[1;33m\u001b[0m\u001b[0m\n",
      "\u001b[1;32m~\\Anaconda3\\lib\\zipfile.py\u001b[0m in \u001b[0;36m__init__\u001b[1;34m(self, file, mode, compression, allowZip64, compresslevel)\u001b[0m\n\u001b[0;32m   1202\u001b[0m             \u001b[1;32mwhile\u001b[0m \u001b[1;32mTrue\u001b[0m\u001b[1;33m:\u001b[0m\u001b[1;33m\u001b[0m\u001b[1;33m\u001b[0m\u001b[0m\n\u001b[0;32m   1203\u001b[0m                 \u001b[1;32mtry\u001b[0m\u001b[1;33m:\u001b[0m\u001b[1;33m\u001b[0m\u001b[1;33m\u001b[0m\u001b[0m\n\u001b[1;32m-> 1204\u001b[1;33m                     \u001b[0mself\u001b[0m\u001b[1;33m.\u001b[0m\u001b[0mfp\u001b[0m \u001b[1;33m=\u001b[0m \u001b[0mio\u001b[0m\u001b[1;33m.\u001b[0m\u001b[0mopen\u001b[0m\u001b[1;33m(\u001b[0m\u001b[0mfile\u001b[0m\u001b[1;33m,\u001b[0m \u001b[0mfilemode\u001b[0m\u001b[1;33m)\u001b[0m\u001b[1;33m\u001b[0m\u001b[1;33m\u001b[0m\u001b[0m\n\u001b[0m\u001b[0;32m   1205\u001b[0m                 \u001b[1;32mexcept\u001b[0m \u001b[0mOSError\u001b[0m\u001b[1;33m:\u001b[0m\u001b[1;33m\u001b[0m\u001b[1;33m\u001b[0m\u001b[0m\n\u001b[0;32m   1206\u001b[0m                     \u001b[1;32mif\u001b[0m \u001b[0mfilemode\u001b[0m \u001b[1;32min\u001b[0m \u001b[0mmodeDict\u001b[0m\u001b[1;33m:\u001b[0m\u001b[1;33m\u001b[0m\u001b[1;33m\u001b[0m\u001b[0m\n",
      "\u001b[1;31mFileNotFoundError\u001b[0m: [Errno 2] No such file or directory: 'E:/Elements/kaggle/GoogleLandmarkRecognition2019/Meta/test.csv.zip'"
     ]
    }
   ],
   "source": [
    "from zipfile import ZipFile\n",
    "\n",
    "#Extract the test.csv file from the Zip file \n",
    "zf = zipfile.ZipFile(Meta_Data_Directory+'test.csv.zip', mode='r')\n",
    "zf.extractall()\n",
    "zf.close()\n",
    "DF_Test_Labels = pd.read_csv(\"test.csv\")\n",
    "print(\"There are :\",DF_Test_Labels.shape[0],\"Test images\")\n",
    "\n",
    "\n"
   ]
  },
  {
   "cell_type": "markdown",
   "metadata": {
    "colab_type": "text",
    "id": "HSLfqxqoJkGf"
   },
   "source": [
    "## Fetch Images "
   ]
  },
  {
   "cell_type": "code",
   "execution_count": 39,
   "metadata": {
    "colab": {
     "base_uri": "https://localhost:8080/",
     "height": 248
    },
    "colab_type": "code",
    "id": "-7B8mzGDJiS_",
    "outputId": "5fa9877f-a3be-4e62-9bdf-1961c8da9f30"
   },
   "outputs": [
    {
     "name": "stdout",
     "output_type": "stream",
     "text": [
      "0.resized\n",
      "Found  90 Sample files in this directory\n",
      "(90, 3)\n"
     ]
    },
    {
     "data": {
      "text/html": [
       "<div>\n",
       "<style scoped>\n",
       "    .dataframe tbody tr th:only-of-type {\n",
       "        vertical-align: middle;\n",
       "    }\n",
       "\n",
       "    .dataframe tbody tr th {\n",
       "        vertical-align: top;\n",
       "    }\n",
       "\n",
       "    .dataframe thead th {\n",
       "        text-align: right;\n",
       "    }\n",
       "</style>\n",
       "<table border=\"1\" class=\"dataframe\">\n",
       "  <thead>\n",
       "    <tr style=\"text-align: right;\">\n",
       "      <th></th>\n",
       "      <th>id</th>\n",
       "      <th>File_Path</th>\n",
       "      <th>landmark_id</th>\n",
       "    </tr>\n",
       "  </thead>\n",
       "  <tbody>\n",
       "    <tr>\n",
       "      <th>0</th>\n",
       "      <td>0001b7ba0106b4d6</td>\n",
       "      <td>E:Elements/kaggle/GoogleLandmarkRecognition2019/Data/0.resized/0001b7ba0106b4d6.jpg</td>\n",
       "      <td>1032</td>\n",
       "    </tr>\n",
       "    <tr>\n",
       "      <th>1</th>\n",
       "      <td>0001f97159a3e4f4</td>\n",
       "      <td>E:Elements/kaggle/GoogleLandmarkRecognition2019/Data/0.resized/0001f97159a3e4f4.jpg</td>\n",
       "      <td>2202</td>\n",
       "    </tr>\n",
       "    <tr>\n",
       "      <th>2</th>\n",
       "      <td>000428e0ff87eecb</td>\n",
       "      <td>E:Elements/kaggle/GoogleLandmarkRecognition2019/Data/0.resized/000428e0ff87eecb.jpg</td>\n",
       "      <td>1236</td>\n",
       "    </tr>\n",
       "    <tr>\n",
       "      <th>3</th>\n",
       "      <td>00061e23ce736fa9</td>\n",
       "      <td>E:Elements/kaggle/GoogleLandmarkRecognition2019/Data/0.resized/00061e23ce736fa9.jpg</td>\n",
       "      <td>1924</td>\n",
       "    </tr>\n",
       "    <tr>\n",
       "      <th>4</th>\n",
       "      <td>000757ced838b008</td>\n",
       "      <td>E:Elements/kaggle/GoogleLandmarkRecognition2019/Data/0.resized/000757ced838b008.jpg</td>\n",
       "      <td>1966</td>\n",
       "    </tr>\n",
       "  </tbody>\n",
       "</table>\n",
       "</div>"
      ],
      "text/plain": [
       "                 id  \\\n",
       "0  0001b7ba0106b4d6   \n",
       "1  0001f97159a3e4f4   \n",
       "2  000428e0ff87eecb   \n",
       "3  00061e23ce736fa9   \n",
       "4  000757ced838b008   \n",
       "\n",
       "                                                                             File_Path  \\\n",
       "0  E:Elements/kaggle/GoogleLandmarkRecognition2019/Data/0.resized/0001b7ba0106b4d6.jpg   \n",
       "1  E:Elements/kaggle/GoogleLandmarkRecognition2019/Data/0.resized/0001f97159a3e4f4.jpg   \n",
       "2  E:Elements/kaggle/GoogleLandmarkRecognition2019/Data/0.resized/000428e0ff87eecb.jpg   \n",
       "3  E:Elements/kaggle/GoogleLandmarkRecognition2019/Data/0.resized/00061e23ce736fa9.jpg   \n",
       "4  E:Elements/kaggle/GoogleLandmarkRecognition2019/Data/0.resized/000757ced838b008.jpg   \n",
       "\n",
       "   landmark_id  \n",
       "0  1032         \n",
       "1  2202         \n",
       "2  1236         \n",
       "3  1924         \n",
       "4  1966         "
      ]
     },
     "execution_count": 39,
     "metadata": {},
     "output_type": "execute_result"
    }
   ],
   "source": [
    "#The Assumption that all Resized files are arrange in 500 directories \n",
    "# Directories name are in the Root directory \n",
    "# Each direcotry is namex X.resized (X = 0-500)\n",
    "\n",
    "#Data Directory location of all resized images\n",
    "Data_Directory = Root_Directory+\"Data/\"\n",
    "Base_Name = \"X.resized\"\n",
    "Start_Dir = 0\n",
    "End_Dir = 1\n",
    "\n",
    "\n",
    "\n",
    "data_sample_resize =[]\n",
    "data_sample_resize = pd.DataFrame(data_sample_resize)\n",
    "#itrate over all the resized directories \n",
    "for i in  range(Start_Dir,End_Dir):\n",
    "    Dir_Name = re.sub('X', str(i), Base_Name)\n",
    "    print(Dir_Name)\n",
    "  \n",
    "  #Build the full path with the resized directory name \n",
    "    path = Data_Directory+Dir_Name\n",
    "    img_files =[]\n",
    "  \n",
    "  #Look for jpg files \n",
    "    try :\n",
    "        img_files = [f for f in os.listdir(path) if f.endswith('.jpg')  ]\n",
    "    except WindowsError:\n",
    "        # can't copy file access times on Windows\n",
    "        pass\n",
    "    \n",
    "  \n",
    "  #Add the full path the image list \n",
    "    img_files_full_path = pd.Series(img_files).apply(lambda x: path+\"/\"+x)\n",
    "\n",
    "  \n",
    "  #print(img_files_full_path)\n",
    "  \n",
    "  #Create of ID list (file names without the extension)\n",
    "    img_id = pd.Series(img_files).apply(lambda x: re.sub('.jpg', '',x))\n",
    "  #print(img_id)\n",
    "  \n",
    "  #Create a data frame\n",
    "    df = pd.concat([img_id, img_files_full_path], axis=1)\n",
    "    df = df.rename(columns={0: 'id', 1: 'File_Path'})\n",
    "  \n",
    "  #Join the Sample data and this folder data based on image id's\n",
    "  #print(df.head())\n",
    "  \n",
    "  #Merge the Sample Data datframe and the files Data frame \n",
    "    df = pd.merge(df, data_sample, left_on='id', right_on='id', how='inner')\n",
    "    print(\"Found \",df.shape[0],\"Sample files in this directory\")\n",
    "  #Append to previous ....\n",
    "    data_sample_resize = pd.concat([data_sample_resize,df], axis=0,ignore_index=True,sort=False)\n",
    "  \n",
    "#Remove the url column\n",
    "data_sample_resize.drop('url', axis=1, inplace=True)\n",
    "print(data_sample_resize.shape)\n",
    "\n",
    "\n",
    "\n",
    "data_sample_resize.head()\n",
    "\n",
    "\n",
    " \n",
    "  "
   ]
  },
  {
   "cell_type": "markdown",
   "metadata": {
    "colab_type": "text",
    "id": "GtDUSincwO9L"
   },
   "source": [
    "## Split Data (Train,Test ,Validiation)"
   ]
  },
  {
   "cell_type": "code",
   "execution_count": 35,
   "metadata": {
    "colab": {
     "base_uri": "https://localhost:8080/",
     "height": 51
    },
    "colab_type": "code",
    "id": "5B9Q8wkU0kCx",
    "outputId": "c38b807d-4887-4d52-a268-30cd931dab44"
   },
   "outputs": [
    {
     "name": "stdout",
     "output_type": "stream",
     "text": [
      "1. train and test set created\n",
      "2. train and validation set created\n"
     ]
    }
   ],
   "source": [
    "\n",
    "\n",
    "'''Split to test and train'''\n",
    "percent_test = 0.01 #takes 1% from each class as holdout data\n",
    "\n",
    "data_test = pd.DataFrame(columns = ['id','File_Path','landmark_id'])\n",
    "data_training_all = pd.DataFrame(columns = ['id','File_Path','landmark_id'])\n",
    "random.seed(42)\n",
    "for landmark_id in set(data_sample_resize['landmark_id']):\n",
    "    n=1\n",
    "    t = data_sample_resize[(data_sample_resize.landmark_id == landmark_id)] #get all images for a landmark id\n",
    "    i = 0\n",
    "    r =[]\n",
    "    while i < len(t.id):\n",
    "        it = i\n",
    "        r.append(t.id.iloc[it])  #create a list of all these images\n",
    "        i += 1\n",
    "        \n",
    "    test = random.sample(r,int(percent_test*len(r))) #randomly pick a sample of 1% images from list 'r'\n",
    "    training = list(set(r) - set(test))  #get the remaining images\n",
    "    data_t = data_sample_resize[data_sample_resize.id.isin(test)] #holdout dataset\n",
    "    data_tr = data_sample_resize[data_sample_resize.id.isin(training)] #training dataset\n",
    "    data_test = data_test.append(data_t)  \n",
    "    data_training_all = data_training_all.append(data_tr)\n",
    "    n+=1\n",
    "\n",
    "print ('1. train and test set created')\n",
    "\n",
    "\n",
    "'''Split into train and validation set'''\n",
    "percent_validation = 0.2 #takes 20% from each class as holdout data\n",
    "\n",
    "data_valid = pd.DataFrame(columns = ['id','File_Path','landmark_id'])\n",
    "data_train = pd.DataFrame(columns = ['id','File_Path','landmark_id'])\n",
    "random.seed(42)\n",
    "for landmark_id in set(data_training_all['landmark_id']):\n",
    "    n=1\n",
    "    t = data_training_all[(data_training_all.landmark_id == landmark_id)]\n",
    "    i = 0\n",
    "    r =[]\n",
    "    while i < len(t.id):\n",
    "        it = i\n",
    "        r.append(t.id.iloc[it])\n",
    "        i += 1\n",
    "        \n",
    "    valid = random.sample(r,int(percent_validation*len(r)))\n",
    "    train = list(set(r) - set(valid)) \n",
    "    data_v = data_training_all[data_training_all.id.isin(valid)]\n",
    "    data_t = data_training_all[data_training_all.id.isin(train)]\n",
    "    data_valid = data_valid.append(data_v)\n",
    "    data_train = data_train.append(data_t)\n",
    "    n+=1\n",
    "\n",
    "print ('2. train and validation set created')"
   ]
  },
  {
   "cell_type": "code",
   "execution_count": 36,
   "metadata": {
    "colab": {
     "base_uri": "https://localhost:8080/",
     "height": 68
    },
    "colab_type": "code",
    "id": "H72wNo45Ot0x",
    "outputId": "d42261c5-ab32-409c-dde5-663991072578"
   },
   "outputs": [
    {
     "name": "stdout",
     "output_type": "stream",
     "text": [
      "34001\n",
      "7511\n",
      "113\n"
     ]
    }
   ],
   "source": [
    "print (len(data_train))\n",
    "print (len(data_valid))\n",
    "print (len(data_test))\n"
   ]
  },
  {
   "cell_type": "markdown",
   "metadata": {
    "colab_type": "text",
    "id": "nxQzrRnYeLLa"
   },
   "source": [
    "## Pre process the images "
   ]
  },
  {
   "cell_type": "code",
   "execution_count": 37,
   "metadata": {
    "colab": {
     "base_uri": "https://localhost:8080/",
     "height": 51
    },
    "colab_type": "code",
    "id": "8lv80VhjbziW",
    "outputId": "a4f1a2dc-1763-483d-adbb-e7a44807cd35"
   },
   "outputs": [
    {
     "name": "stdout",
     "output_type": "stream",
     "text": [
      "Train folders created\n",
      "Train images moved\n"
     ]
    }
   ],
   "source": [
    "##create folders for landmark IDs in Training folder\n",
    "\n",
    "\n",
    "train_data = data_train.copy(deep=True)\n",
    "\n",
    "temp = pd.DataFrame(data_train.landmark_id.value_counts())\n",
    "temp.reset_index(inplace=True)\n",
    "temp.columns = ['landmark_id','count']\n",
    "\n",
    "\n",
    "def createfolders(dataset,folder):\n",
    "    i = 0\n",
    "    while i < len(dataset):\n",
    "        landmark = str(dataset.landmark_id.iloc[i])\n",
    "        path = 'c:/temp/' + folder + '/'+ landmark\n",
    "        \n",
    "        if  (os.path.exists(path) == False):\n",
    "            os.makedirs(path)\n",
    "        i+=1\n",
    "createfolders(temp,'train_images_model')\n",
    "print ('Train folders created')\n",
    "\n",
    "\n",
    "\n",
    "rootdirpics = Root_Directory+r'Data/'\n",
    "rootdirfolders = 'c:/temp/train_images_model/'\n",
    "train_data['landmark_id'] = train_data['landmark_id'].apply(lambda x: rootdirfolders+str(x))\n",
    "\n",
    "def cpy(x):\n",
    "    try :\n",
    "        shutil.copy2(x['File_Path'],x['landmark_id'])\n",
    "    except WindowsError:\n",
    "        # can't copy file access times on Windows\n",
    "        pass\n",
    "\n",
    "def transformdata(data,path2):\n",
    "\n",
    "       \n",
    "    #data.apply(lambda x: shutil.copy2(x['File_Path'],x['landmark_id']),axis=1)\n",
    "    \n",
    "    data.apply(lambda x:cpy(x),axis=1)\n",
    "               \n",
    "\n",
    "transformdata(train_data,rootdirfolders)\n",
    "print ('Train images moved')\n"
   ]
  },
  {
   "cell_type": "code",
   "execution_count": 31,
   "metadata": {},
   "outputs": [
    {
     "data": {
      "text/html": [
       "<div>\n",
       "<style scoped>\n",
       "    .dataframe tbody tr th:only-of-type {\n",
       "        vertical-align: middle;\n",
       "    }\n",
       "\n",
       "    .dataframe tbody tr th {\n",
       "        vertical-align: top;\n",
       "    }\n",
       "\n",
       "    .dataframe thead th {\n",
       "        text-align: right;\n",
       "    }\n",
       "</style>\n",
       "<table border=\"1\" class=\"dataframe\">\n",
       "  <thead>\n",
       "    <tr style=\"text-align: right;\">\n",
       "      <th></th>\n",
       "      <th>id</th>\n",
       "      <th>File_Path</th>\n",
       "      <th>landmark_id</th>\n",
       "    </tr>\n",
       "  </thead>\n",
       "  <tbody>\n",
       "    <tr>\n",
       "      <th>712</th>\n",
       "      <td>04b884ff790036fd</td>\n",
       "      <td>E:Elements/kaggle/GoogleLandmarkRecognition2019/Data/9.resized/04b884ff790036fd.jpg</td>\n",
       "      <td>1000</td>\n",
       "    </tr>\n",
       "    <tr>\n",
       "      <th>3413</th>\n",
       "      <td>15225c746609b5e3</td>\n",
       "      <td>E:Elements/kaggle/GoogleLandmarkRecognition2019/Data/41.resized/15225c746609b5e3.jpg</td>\n",
       "      <td>1000</td>\n",
       "    </tr>\n",
       "    <tr>\n",
       "      <th>9483</th>\n",
       "      <td>39984d084ebe7b98</td>\n",
       "      <td>E:Elements/kaggle/GoogleLandmarkRecognition2019/Data/112.resized/39984d084ebe7b98.jpg</td>\n",
       "      <td>1000</td>\n",
       "    </tr>\n",
       "    <tr>\n",
       "      <th>38374</th>\n",
       "      <td>eb9b5973c5040247</td>\n",
       "      <td>E:Elements/kaggle/GoogleLandmarkRecognition2019/Data/460.resized/eb9b5973c5040247.jpg</td>\n",
       "      <td>1000</td>\n",
       "    </tr>\n",
       "    <tr>\n",
       "      <th>25985</th>\n",
       "      <td>9f16f44d2e92b92b</td>\n",
       "      <td>E:Elements/kaggle/GoogleLandmarkRecognition2019/Data/310.resized/9f16f44d2e92b92b.jpg</td>\n",
       "      <td>1002</td>\n",
       "    </tr>\n",
       "  </tbody>\n",
       "</table>\n",
       "</div>"
      ],
      "text/plain": [
       "                     id  \\\n",
       "712    04b884ff790036fd   \n",
       "3413   15225c746609b5e3   \n",
       "9483   39984d084ebe7b98   \n",
       "38374  eb9b5973c5040247   \n",
       "25985  9f16f44d2e92b92b   \n",
       "\n",
       "                                                                                   File_Path  \\\n",
       "712    E:Elements/kaggle/GoogleLandmarkRecognition2019/Data/9.resized/04b884ff790036fd.jpg     \n",
       "3413   E:Elements/kaggle/GoogleLandmarkRecognition2019/Data/41.resized/15225c746609b5e3.jpg    \n",
       "9483   E:Elements/kaggle/GoogleLandmarkRecognition2019/Data/112.resized/39984d084ebe7b98.jpg   \n",
       "38374  E:Elements/kaggle/GoogleLandmarkRecognition2019/Data/460.resized/eb9b5973c5040247.jpg   \n",
       "25985  E:Elements/kaggle/GoogleLandmarkRecognition2019/Data/310.resized/9f16f44d2e92b92b.jpg   \n",
       "\n",
       "      landmark_id  \n",
       "712    1000        \n",
       "3413   1000        \n",
       "9483   1000        \n",
       "38374  1000        \n",
       "25985  1002        "
      ]
     },
     "execution_count": 31,
     "metadata": {},
     "output_type": "execute_result"
    }
   ],
   "source": [
    "\n",
    "#train_data[train_data['File_Path'].str.contains(\"c140564dc13c443b\")]\n",
    "data_valid.head()"
   ]
  },
  {
   "cell_type": "code",
   "execution_count": 38,
   "metadata": {
    "colab": {
     "base_uri": "https://localhost:8080/",
     "height": 51
    },
    "colab_type": "code",
    "id": "G0iMH5jFaqgB",
    "outputId": "58a58dae-cddd-443a-a47c-046493a4dd8e"
   },
   "outputs": [
    {
     "name": "stdout",
     "output_type": "stream",
     "text": [
      "Validation folders created\n",
      "E:Elements/kaggle/GoogleLandmarkRecognition2019/Data/\n",
      "c:/temp/validation_images_model/\n",
      "Validation images moved\n"
     ]
    }
   ],
   "source": [
    "##create folders for landmark IDs in Validation folder\n",
    "valid_data = data_valid.copy(deep=True)\n",
    "\n",
    "temp = pd.DataFrame(data_valid.landmark_id.value_counts())\n",
    "temp.reset_index(inplace=True)\n",
    "temp.columns = ['landmark_id','count']\n",
    "createfolders(temp,'validation_images_model')\n",
    "print ('Validation folders created')\n",
    "\n",
    "#make folders for landmark ID which had no images in validation sets - required for codes running next\n",
    "#available = [int((x[0].split('/'))[-1]) for x in os.walk(r'c:/tempvalidation_images_model/') if len((x[0].split('/'))[-1]) > 0]\n",
    "#new = [str(x) for x in range(1000,2999) if x not in available]\n",
    "#for i in new:\n",
    "#    path = Root_Directory + '/validation_images_model/' + i\n",
    "#    if not os.path.exists(path):\n",
    "#        os.makedirs(path)\n",
    "\n",
    "\n",
    "rootdirpics = Root_Directory+r'Data/'\n",
    "print(rootdirpics)\n",
    "rootdirfolders = \"c:/temp/\"+ r'validation_images_model/'   \n",
    "print(rootdirfolders)\n",
    "valid_data['landmark_id'] = valid_data['landmark_id'].apply(lambda x: rootdirfolders+str(x))\n",
    "transformdata(valid_data,rootdirfolders)\n",
    "print ('Validation images moved')"
   ]
  },
  {
   "cell_type": "markdown",
   "metadata": {
    "colab_type": "text",
    "id": "6Ixgb_zJbDUC"
   },
   "source": [
    "## Diplay images "
   ]
  },
  {
   "cell_type": "code",
   "execution_count": 0,
   "metadata": {
    "colab": {
     "base_uri": "https://localhost:8080/",
     "height": 341
    },
    "colab_type": "code",
    "id": "nzGc6uu5bCW0",
    "outputId": "9ce5ab46-6fdc-427b-b387-a6eafb92d918"
   },
   "outputs": [
    {
     "data": {
      "text/html": [
       "<img style='width: 200px; height:160px; margin: 0px; float: left; border: 1px solid black;' src='https://upload.wikimedia.org/wikipedia/commons/7/7f/NSG_HA_134_Mastberg_und_Innersteaue_-_Mastberg_%2825%29.jpg' /><img style='width: 200px; height:160px; margin: 0px; float: left; border: 1px solid black;' src='https://upload.wikimedia.org/wikipedia/commons/1/1e/HA_134_Mastberg_und_Innersteaue_Hildesheim_DSC00204.JPG' /><img style='width: 200px; height:160px; margin: 0px; float: left; border: 1px solid black;' src='https://upload.wikimedia.org/wikipedia/commons/8/81/Naturschutzgebiet_Mastberg_und_Innersteaue_-_Buschwindr%C3%B6schen_%282%29.jpg' /><img style='width: 200px; height:160px; margin: 0px; float: left; border: 1px solid black;' src='https://upload.wikimedia.org/wikipedia/commons/5/5d/Naturschutzgebiet_Mastberg_und_Innersteaue_-_An_der_Innerste_%289%29.jpg' /><img style='width: 200px; height:160px; margin: 0px; float: left; border: 1px solid black;' src='https://upload.wikimedia.org/wikipedia/commons/8/8d/NSG_HA_134_Mastberg_und_Innersteaue_-_Mastberg_%2845%29.jpg' /><img style='width: 200px; height:160px; margin: 0px; float: left; border: 1px solid black;' src='https://upload.wikimedia.org/wikipedia/commons/c/cd/NSG_HA_134_Mastberg_und_Innersteaue_-_Mastberg_-_Buntspecht_%284%29.jpg' /><img style='width: 200px; height:160px; margin: 0px; float: left; border: 1px solid black;' src='https://upload.wikimedia.org/wikipedia/commons/9/9a/NSG_HA_134_Mastberg_und_Innersteaue_-_Mastberg_-_Buntspecht_%2819%29.jpg' /><img style='width: 200px; height:160px; margin: 0px; float: left; border: 1px solid black;' src='https://upload.wikimedia.org/wikipedia/commons/1/15/HA_134_Mastberg_und_Innersteaue_Hildesheim_DSC00184.JPG' /><img style='width: 200px; height:160px; margin: 0px; float: left; border: 1px solid black;' src='https://upload.wikimedia.org/wikipedia/commons/a/aa/Naturschutzgebiet_Mastberg_und_Innersteaue_-_Auf_dem_Mastberg_%2823%29.jpg' /><img style='width: 200px; height:160px; margin: 0px; float: left; border: 1px solid black;' src='https://upload.wikimedia.org/wikipedia/commons/b/be/NSG_HA_134_Mastberg_und_Innersteaue_-_Mastberg_%2827%29.jpg' /><img style='width: 200px; height:160px; margin: 0px; float: left; border: 1px solid black;' src='https://upload.wikimedia.org/wikipedia/commons/8/80/Naturschutzgebiet_Mastberg_und_Innersteaue_-_Schneitel-Buchen_%282%29.jpg' /><img style='width: 200px; height:160px; margin: 0px; float: left; border: 1px solid black;' src='https://upload.wikimedia.org/wikipedia/commons/b/bf/Naturschutzgebiet_Mastberg_und_Innersteaue_-_Auf_dem_Mastberg_%2822%29.jpg' /><img style='width: 200px; height:160px; margin: 0px; float: left; border: 1px solid black;' src='https://upload.wikimedia.org/wikipedia/commons/c/cc/NSG_Mastberg_und_Innersteaue_-_Wald%287%29.jpg' /><img style='width: 200px; height:160px; margin: 0px; float: left; border: 1px solid black;' src='https://upload.wikimedia.org/wikipedia/commons/b/bc/NSG_Mastberg_und_Innersteaue_-_Wald%283%29.jpg' /><img style='width: 200px; height:160px; margin: 0px; float: left; border: 1px solid black;' src='https://upload.wikimedia.org/wikipedia/commons/e/ec/HA_134_Mastberg_und_Innersteaue_Hildesheim_DSC00207.JPG' /><img style='width: 200px; height:160px; margin: 0px; float: left; border: 1px solid black;' src='https://upload.wikimedia.org/wikipedia/commons/f/ff/HA_134_Mastberg_und_Innersteaue_Hildesheim_Mistk%C3%A4fer_DSC00244.JPG' />"
      ],
      "text/plain": [
       "<IPython.core.display.HTML object>"
      ]
     },
     "metadata": {
      "tags": []
     },
     "output_type": "display_data"
    }
   ],
   "source": [
    "from IPython.display import Image\n",
    "from IPython.core.display import HTML \n",
    "\n",
    "def displayLandmarkImagesLarge(urls, category_name):\n",
    "    img_style = \"width: 200px; height:160px; margin: 0px; float: left; border: 1px solid black;\"\n",
    "    images_list = ''.join([f\"<img style='{img_style}' src='{u}' />\" for _, u in urls.head(16).iteritems()])\n",
    "    display(HTML(images_list))\n",
    "\n",
    "category = DF_Labels['landmark_id'].value_counts().keys()[999]\n",
    "urls = DF_Labels[DF_Labels['landmark_id'] == category]['url']\n",
    "displayLandmarkImagesLarge(urls, \"\")"
   ]
  },
  {
   "cell_type": "markdown",
   "metadata": {
    "colab_type": "text",
    "id": "XwsmnaP6jfUL"
   },
   "source": []
  }
 ],
 "metadata": {
  "accelerator": "GPU",
  "colab": {
   "collapsed_sections": [],
   "name": "_Kaggle Google Landmark Main.ipynb",
   "provenance": [],
   "version": "0.3.2"
  },
  "kernelspec": {
   "display_name": "Python 3",
   "language": "python",
   "name": "python3"
  },
  "language_info": {
   "codemirror_mode": {
    "name": "ipython",
    "version": 3
   },
   "file_extension": ".py",
   "mimetype": "text/x-python",
   "name": "python",
   "nbconvert_exporter": "python",
   "pygments_lexer": "ipython3",
   "version": "3.7.1"
  }
 },
 "nbformat": 4,
 "nbformat_minor": 1
}
